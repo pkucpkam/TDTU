{
  "nbformat": 4,
  "nbformat_minor": 0,
  "metadata": {
    "colab": {
      "provenance": [],
      "toc_visible": true
    },
    "kernelspec": {
      "name": "python3",
      "display_name": "Python 3"
    },
    "language_info": {
      "name": "python"
    }
  },
  "cells": [
    {
      "cell_type": "markdown",
      "source": [
        "# Exercise 1"
      ],
      "metadata": {
        "id": "eTuA582j6fcg"
      }
    },
    {
      "cell_type": "code",
      "source": [
        "def hoare_partition(A, l, r):\n",
        "\n",
        "  \"\"\"\n",
        "    Partitions the array using Hoare's partitioning scheme.\n",
        "\n",
        "    Input:\n",
        "        A (list): The array of elements to be partitioned.\n",
        "        l (int): The starting index of the subarray.\n",
        "        r (int): The ending index of the subarray.\n",
        "\n",
        "    Output:\n",
        "        int: The index of the partition point where the array is divided.\n",
        "\n",
        "  \"\"\"\n",
        "    pivot = A[l]\n",
        "    i = l - 1\n",
        "    j = r + 1\n",
        "\n",
        "    while True:\n",
        "        i += 1\n",
        "        while A[i] < pivot:\n",
        "            i += 1\n",
        "        j -= 1\n",
        "        while A[j] > pivot and j>0:\n",
        "            j -= 1\n",
        "\n",
        "        if i >= j:\n",
        "            return j\n",
        "\n",
        "        A[i], A[j] = A[j], A[i]\n",
        "\n",
        "def quicksort(A, l, r):\n",
        "  \"\"\"\n",
        "    Sorts the array A using the quicksort algorithm with Hoare partitioning.\n",
        "\n",
        "    Input:\n",
        "        A (list): The array of elements to be sorted.\n",
        "        l (int): The starting index of the subarray to be sorted.\n",
        "        r (int): The ending index of the subarray to be sorted.\n",
        "\n",
        "    Output:\n",
        "        None: The array A is sorted in-place.\n",
        "  \"\"\"\n",
        "  if l < r:\n",
        "    s = hoare_partition(A, l, r)\n",
        "    quicksort(A, l, s)\n",
        "    quicksort(A, s + 1, r)\n",
        "\n",
        "# Example usage\n",
        "array = [10, 7, 8, 9, 1, 5]\n",
        "quicksort(array, 0, len(array) - 1)\n",
        "print(\"Sorted array:\", array)\n"
      ],
      "metadata": {
        "colab": {
          "base_uri": "https://localhost:8080/"
        },
        "id": "FeyGDqfz8V8z",
        "outputId": "1d1e9baa-6a57-4cdd-ae66-4528c829c703"
      },
      "execution_count": null,
      "outputs": [
        {
          "output_type": "stream",
          "name": "stdout",
          "text": [
            "Sorted array: [1, 5, 7, 8, 9, 10]\n"
          ]
        }
      ]
    },
    {
      "cell_type": "markdown",
      "source": [
        "## Analyze\n",
        "\n",
        "Input size: Array A has n elements => T(n)\n",
        "\n",
        "Basic operation: assignment on line 30\n",
        "\n",
        "Worse case: the pivot is always the smallest or largest element in the subarray\n",
        "\n",
        "T(n) = n + (n -1) + (n -2 ) + ... + 1 = (n^2 - n)/2 = n^2\n",
        "\n",
        "So T(n) $∈ Θ(n^2)$\n",
        "\n",
        "\n",
        "\n"
      ],
      "metadata": {
        "id": "qsCbJiBp8c47"
      }
    },
    {
      "cell_type": "markdown",
      "source": [
        "# Exercise 2"
      ],
      "metadata": {
        "id": "ljpTc0Qk6kgc"
      }
    },
    {
      "cell_type": "code",
      "source": [
        "class Node:\n",
        "    def __init__(self, data):\n",
        "        self.data = data\n",
        "        self.left = None\n",
        "        self.right = None\n",
        "\n",
        "def tree_height(node):\n",
        "   \"\"\"\n",
        "    Calculates the height of a binary tree.\n",
        "\n",
        "    Input:\n",
        "        node (Node): The root node of the binary tree.\n",
        "\n",
        "    Output:\n",
        "        int: The height of the tree. Returns -1 for an empty tree.\n",
        "\n",
        "    \"\"\"\n",
        "    if node is None:\n",
        "        return -1\n",
        "\n",
        "    left_height = tree_height(node.left)\n",
        "    right_height = tree_height(node.right)\n",
        "\n",
        "    return max(left_height, right_height) + 1\n",
        "\n",
        "# Example usage:\n",
        "root = Node(1)\n",
        "root.left = Node(2)\n",
        "root.right = Node(3)\n",
        "root.left.left = Node(4)\n",
        "root.left.right = Node(5)\n",
        "\n",
        "height = tree_height(root)\n",
        "print(\"Height of the tree:\", height)\n"
      ],
      "metadata": {
        "colab": {
          "base_uri": "https://localhost:8080/"
        },
        "id": "OLCC3mhwEvi8",
        "outputId": "432151d5-2add-47e2-81eb-5de227a12659"
      },
      "execution_count": null,
      "outputs": [
        {
          "output_type": "stream",
          "name": "stdout",
          "text": [
            "Height of the tree: 2\n"
          ]
        }
      ]
    },
    {
      "cell_type": "markdown",
      "source": [
        "## Analyze\n",
        "\n",
        "Input size: n (number of nodes in the tree) => T(n)\n",
        "\n",
        "Basic operation: checking if the current node is None\n",
        "\n",
        "Worse case: The worst case occurs when the binary tree is skewed (one-sided), like a linked list.\n",
        "\n",
        "T(n) = 1 + 1 + ... + 1 = n\n",
        "\n",
        "So $T(n) \\in Θ(n)$"
      ],
      "metadata": {
        "id": "NH_RwF0ZCOIG"
      }
    },
    {
      "cell_type": "markdown",
      "source": [
        "# Exercise 3"
      ],
      "metadata": {
        "id": "q7e9b7YS6kpM"
      }
    },
    {
      "cell_type": "code",
      "source": [
        "class Node:\n",
        "    def __init__(self, value, left=None, right=None):\n",
        "        self.value = value\n",
        "        self.left = left\n",
        "        self.right = right\n",
        "\n",
        "def pre_order(node):\n",
        "    \"\"\"\n",
        "    Performs a pre-order traversal of a binary tree.\n",
        "\n",
        "    Input:\n",
        "        node (Node): The root node of the binary tree.\n",
        "\n",
        "    Output:\n",
        "        list: A list containing the values of the nodes in pre-order.\n",
        "\n",
        "    \"\"\"\n",
        "    if node is None:\n",
        "        return []\n",
        "    return [node.value] + pre_order(node.left) + pre_order(node.right)\n",
        "\n",
        "def in_order(node):\n",
        "    \"\"\"\n",
        "    Performs an in-order traversal of a binary tree.\n",
        "\n",
        "    Input:\n",
        "        node (Node): The root node of the binary tree.\n",
        "\n",
        "    Output:\n",
        "        list: A list containing the values of the nodes in in-order.\n",
        "\n",
        "    \"\"\"\n",
        "    if node is None:\n",
        "        return []\n",
        "    return in_order(node.left) + [node.value] + in_order(node.right)\n",
        "\n",
        "def post_order(node):\n",
        "    \"\"\"\n",
        "    Performs a post-order traversal of a binary tree.\n",
        "\n",
        "    Input:\n",
        "        node (Node): The root node of the binary tree.\n",
        "\n",
        "    Output:\n",
        "        list: A list containing the values of the nodes in post-order.\n",
        "\n",
        "    \"\"\"\n",
        "    if node is None:\n",
        "        return []\n",
        "    return post_order(node.left) + post_order(node.right) + [node.value]\n",
        "\n",
        "# Tạo cây nhị phân\n",
        "#          1\n",
        "#         / \\\n",
        "#        2   3\n",
        "#       / \\\n",
        "#      4   5\n",
        "\n",
        "node4 = Node(4)\n",
        "node5 = Node(5)\n",
        "node2 = Node(2, node4, node5)\n",
        "node3 = Node(3)\n",
        "root = Node(1, node2, node3)\n",
        "\n",
        "# Duyệt cây\n",
        "print(\"Pre-order traversal:\")\n",
        "print(pre_order(root))  # Kết quả: [1, 2, 4, 5, 3]\n",
        "print(\"In-order traversal:\")\n",
        "print(in_order(root))   # Kết quả: [4, 2, 5, 1, 3]\n",
        "print(\"Post-order traversal:\")\n",
        "print(post_order(root)) # Kết quả: [4, 5, 2, 3, 1]\n"
      ],
      "metadata": {
        "colab": {
          "base_uri": "https://localhost:8080/"
        },
        "id": "7lq2Au5NFdqK",
        "outputId": "798c182c-dbb1-40fa-dd61-7e215de84131"
      },
      "execution_count": null,
      "outputs": [
        {
          "output_type": "stream",
          "name": "stdout",
          "text": [
            "Pre-order traversal:\n",
            "[1, 2, 4, 5, 3]\n",
            "In-order traversal:\n",
            "[4, 2, 5, 1, 3]\n",
            "Post-order traversal:\n",
            "[4, 5, 2, 3, 1]\n"
          ]
        }
      ]
    },
    {
      "cell_type": "markdown",
      "source": [
        "## Analyze\n",
        "\n",
        "Input size: n (number of nodes in the tree) => T(n)\n",
        "\n",
        "Basic operation: checking if the current node is None\n",
        "\n",
        "Worse case: The worst case occurs when the binary tree is skewed (one-sided), like a linked list.\n",
        "\n",
        "T(n) = 1 + 1 + ... + 1 = n\n",
        "\n",
        "So $T(n) \\in Θ(n)$"
      ],
      "metadata": {
        "id": "z7UCho-3JNB0"
      }
    },
    {
      "cell_type": "markdown",
      "source": [
        "# Exercise 4"
      ],
      "metadata": {
        "id": "tr5CrVej6kwE"
      }
    },
    {
      "cell_type": "code",
      "source": [
        "import math\n",
        "class Point:\n",
        "    def __init__(self, x, y):\n",
        "        self.x = x\n",
        "        self.y = y\n",
        "\n",
        "def brute_force(points):\n",
        "    \"\"\"\n",
        "    Finds the closest pair of points using a brute force approach.\n",
        "\n",
        "    Input:\n",
        "        points (list): A list of Point objects representing the points.\n",
        "\n",
        "    Output:\n",
        "        float: The distance between the closest pair of points.\n",
        "\n",
        "    \"\"\"\n",
        "    min_dist = float('inf')\n",
        "    num_points = len(points)\n",
        "    for i in range(num_points):\n",
        "        for j in range(i + 1, num_points):\n",
        "            dist = math.sqrt((points[i].x - points[j].x) ** 2 + (points[i].y - points[j].y) ** 2)\n",
        "            min_dist = min(min_dist, dist)\n",
        "    return min_dist\n",
        "\n",
        "def closest_pair_rec(P, Q):\n",
        "    \"\"\"\n",
        "    Finds the closest pair of points using a recursive approach.\n",
        "\n",
        "    Input:\n",
        "        P (list): A sorted list of Point objects representing the x-coordinates of the points.\n",
        "        Q (list): A sorted list of Point objects representing the y-coordinates of the points.\n",
        "\n",
        "    Output:\n",
        "        float: The distance between the closest pair of points.\n",
        "    \"\"\"\n",
        "    if len(P) <= 3:\n",
        "        return brute_force(P)\n",
        "\n",
        "    mid = len(P) // 2\n",
        "    mid_point = P[mid]\n",
        "\n",
        "    Q_left = [point for point in Q if point.x <= mid_point.x]\n",
        "    Q_right = [point for point in Q if point.x > mid_point.x]\n",
        "\n",
        "    d1 = closest_pair_rec(P[:mid], Q_left)\n",
        "    d2 = closest_pair_rec(P[mid:], Q_right)\n",
        "    d = min(d1, d2)\n",
        "\n",
        "    # Build strip array\n",
        "    S = [point for point in Q if abs(point.x - mid_point.x) < d]\n",
        "\n",
        "    # Check distances in the strip\n",
        "    min_dist_sq = d ** 2\n",
        "    for i in range(len(S)):\n",
        "        for j in range(i + 1, len(S)):\n",
        "            if (S[j].y - S[i].y) ** 2 < min_dist_sq:\n",
        "                dist_sq = (S[j].x - S[i].x) ** 2 + (S[j].y - S[i].y) ** 2\n",
        "                min_dist_sq = min(min_dist_sq, dist_sq)\n",
        "\n",
        "    return math.sqrt(min_dist_sq)\n",
        "\n",
        "def efficient_closest_pair(points):\n",
        "    \"\"\"\n",
        "    Finds the closest pair of points using an efficient algorithm.\n",
        "\n",
        "    Input:\n",
        "        points (list): A list of Point objects representing the points.\n",
        "\n",
        "    Output:\n",
        "        float: The distance between the closest pair of points.\n",
        "\n",
        "    \"\"\"\n",
        "    P = sorted(points, key=lambda point: point.x)\n",
        "    Q = sorted(points, key=lambda point: point.y)\n",
        "    return closest_pair_rec(P, Q)\n",
        "\n",
        "# Example usage\n",
        "points = [Point(0, 0), Point(2, 2), Point(3, 1), Point(5, 4), Point(6, 5)]\n",
        "closest_distance = efficient_closest_pair(points)\n",
        "print(\"Closest pair distance:\", closest_distance)\n"
      ],
      "metadata": {
        "colab": {
          "base_uri": "https://localhost:8080/"
        },
        "id": "4EUtctGuFfzR",
        "outputId": "8bf2ff34-e6aa-4570-bda7-3553a12edcf1"
      },
      "execution_count": null,
      "outputs": [
        {
          "output_type": "stream",
          "name": "stdout",
          "text": [
            "Array after partitioning: [2, 7, 5, 9, 12, 11, 14]\n",
            "Pivot index: 3\n"
          ]
        }
      ]
    },
    {
      "cell_type": "markdown",
      "source": [
        "## Analyze\n",
        "\n",
        "Input size: n (number of points) => T(n)\n",
        "\n",
        "Basic operation: Compare the y-distance between two points in line 57\n",
        "\n",
        "Worse case: No\n",
        "\n",
        "Because: We call recursively twice for the two halves of the list (each half about n/2 points) and the operation of creating arrays Q1 and Qr and calculating the distances in the strip is n\n",
        "\n",
        "We have:\n",
        "\n",
        "$T(n) = 2T(n/2) + n$\n",
        "\n",
        "$a = 2, b = 2, f(n) = n$ and $f(n)∈Θ(n^k )$, therefore k=1\n",
        "\n",
        "$b^k = 2^1 = 2$\n",
        "\n",
        "Therefore $a = b^k$\n",
        "\n",
        "According to Master theorem, we have:\n",
        "\n",
        "$T(n)∈Θ(n^k logn)=Θ(nlogn)$\n"
      ],
      "metadata": {
        "id": "z5kO_SsxFgA3"
      }
    }
  ]
}