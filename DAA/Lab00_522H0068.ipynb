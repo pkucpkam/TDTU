{
  "nbformat": 4,
  "nbformat_minor": 0,
  "metadata": {
    "colab": {
      "provenance": [],
      "toc_visible": true
    },
    "kernelspec": {
      "name": "python3",
      "display_name": "Python 3"
    },
    "language_info": {
      "name": "python"
    }
  },
  "cells": [
    {
      "cell_type": "markdown",
      "source": [
        "# Exercise 1\n"
      ],
      "metadata": {
        "id": "M1HanMFTuk2-"
      }
    },
    {
      "cell_type": "markdown",
      "source": [
        "## Algorithm"
      ],
      "metadata": {
        "id": "mtdMCGv6u951"
      }
    },
    {
      "cell_type": "code",
      "source": [
        "def sum1(n):\n",
        "    \"\"\"\n",
        "    this function is used to find the sum of the following series\n",
        "      X = 1/(1-2^2 )+1/(1-3^3 )+⋯+1/(1-n^n )\n",
        "    input: n - non-negative integer\n",
        "    output: X\n",
        "    \"\"\"\n",
        "    result = 0\n",
        "    for i in range(2,n+1):\n",
        "      result = result + 1/(1-i**i)\n",
        "    return result"
      ],
      "metadata": {
        "id": "PR1R62bfvVP1"
      },
      "execution_count": 10,
      "outputs": []
    },
    {
      "cell_type": "code",
      "source": [
        "sum1(3)"
      ],
      "metadata": {
        "colab": {
          "base_uri": "https://localhost:8080/"
        },
        "id": "9xJMlVdmvcvl",
        "outputId": "d1724841-c9e5-47f8-b878-4ccd02a369a5"
      },
      "execution_count": 11,
      "outputs": [
        {
          "output_type": "execute_result",
          "data": {
            "text/plain": [
              "-0.3717948717948718"
            ]
          },
          "metadata": {},
          "execution_count": 11
        }
      ]
    },
    {
      "cell_type": "code",
      "source": [
        "sum1(5)"
      ],
      "metadata": {
        "colab": {
          "base_uri": "https://localhost:8080/"
        },
        "id": "w9dl5WaHwmUr",
        "outputId": "06e6f108-4dbc-4887-8702-e8a1c5943691"
      },
      "execution_count": 12,
      "outputs": [
        {
          "output_type": "execute_result",
          "data": {
            "text/plain": [
              "-0.37603654285510124"
            ]
          },
          "metadata": {},
          "execution_count": 12
        }
      ]
    },
    {
      "cell_type": "markdown",
      "source": [
        "## Analysis"
      ],
      "metadata": {
        "id": "VUcwGVLP4CSV"
      }
    },
    {
      "cell_type": "markdown",
      "source": [
        "1) Input size $n => T(n)$\n",
        "\n",
        "2) Basic operation: exponentiation on line 10\n",
        "\n",
        "3) Worst cases: no\n",
        "\n",
        "4) $T(n) = 1 + 1 +  .... +  1 = n$"
      ],
      "metadata": {
        "id": "w8rKXYJ4m5Ku"
      }
    },
    {
      "cell_type": "markdown",
      "source": [
        "# Exercise 2\n"
      ],
      "metadata": {
        "id": "3nsV17St68-n"
      }
    },
    {
      "cell_type": "markdown",
      "source": [
        "## Algorithm"
      ],
      "metadata": {
        "id": "cr7p30AF7FHx"
      }
    },
    {
      "cell_type": "code",
      "source": [
        "def sum2(n,m):\n",
        "    \"\"\"\n",
        "    this function is used to find the sum of the following series\n",
        "        Y=1/(1+m)-1/(1+m^2 )+1/(1+m^3 )-…+(-1)^(n+1)  1/(1+m^n )\n",
        "    input: n - non-negative integer, m - integer\n",
        "    output: Y\n",
        "    \"\"\"\n",
        "    result = 0\n",
        "    for i in range(1,n+1):\n",
        "      result = result + ((-1)**(i + 1))*(1/m**i)\n",
        "    print(result)\n"
      ],
      "metadata": {
        "id": "iwby8OCS7PWm"
      },
      "execution_count": 13,
      "outputs": []
    },
    {
      "cell_type": "code",
      "source": [
        "sum2(5,2)"
      ],
      "metadata": {
        "colab": {
          "base_uri": "https://localhost:8080/"
        },
        "id": "1EVmhn877Pq3",
        "outputId": "f73cebd2-03f4-4d60-b8ef-c9e752b2e4aa"
      },
      "execution_count": 14,
      "outputs": [
        {
          "output_type": "stream",
          "name": "stdout",
          "text": [
            "0.34375\n"
          ]
        }
      ]
    },
    {
      "cell_type": "code",
      "source": [
        "sum2(2,5)"
      ],
      "metadata": {
        "colab": {
          "base_uri": "https://localhost:8080/"
        },
        "id": "PsghMzwZ7Pxe",
        "outputId": "4b7b4e34-c9df-46cf-db65-63ebc3a2e096"
      },
      "execution_count": 15,
      "outputs": [
        {
          "output_type": "stream",
          "name": "stdout",
          "text": [
            "0.16\n"
          ]
        }
      ]
    },
    {
      "cell_type": "markdown",
      "source": [
        "## Analysis\n"
      ],
      "metadata": {
        "id": "3fgTXM1v7KHI"
      }
    },
    {
      "cell_type": "markdown",
      "source": [
        "1) Input size $n => T(n)$\n",
        "\n",
        "2) Basic operation: exponentiation on line 10\n",
        "\n",
        "3) Worst cases: no\n",
        "\n",
        "4) $T(n) = 1 + 1 +  .... +  1 = n$"
      ],
      "metadata": {
        "id": "Omxhd21A2Cen"
      }
    },
    {
      "cell_type": "markdown",
      "source": [
        "# Exercise 3\n"
      ],
      "metadata": {
        "id": "7AaZjD2c8xT_"
      }
    },
    {
      "cell_type": "markdown",
      "source": [
        "## Algorithm"
      ],
      "metadata": {
        "id": "xPpNyCLL8xUA"
      }
    },
    {
      "cell_type": "code",
      "source": [
        "def sum3(n):\n",
        "    \"\"\"\n",
        "    this function is used to find the sum of the following series\n",
        "        Z=1^3+2^3+3^3+⋯+ n^3\n",
        "    input: n - non-negative integer, m - non-negative integer\n",
        "    output: Y\n",
        "    \"\"\"\n",
        "    result = 0\n",
        "    for i in range(1,n+1):\n",
        "      result = result + i**i\n",
        "\n",
        "    return result\n"
      ],
      "metadata": {
        "id": "nyKvhaKI8xUB"
      },
      "execution_count": 16,
      "outputs": []
    },
    {
      "cell_type": "code",
      "source": [
        "sum3(5)"
      ],
      "metadata": {
        "colab": {
          "base_uri": "https://localhost:8080/"
        },
        "outputId": "e581aa92-20f0-451e-aaee-d5985db7678f",
        "id": "9OU5u3fw8xUC"
      },
      "execution_count": 17,
      "outputs": [
        {
          "output_type": "execute_result",
          "data": {
            "text/plain": [
              "3413"
            ]
          },
          "metadata": {},
          "execution_count": 17
        }
      ]
    },
    {
      "cell_type": "code",
      "source": [
        "sum3(2)"
      ],
      "metadata": {
        "colab": {
          "base_uri": "https://localhost:8080/"
        },
        "outputId": "fb62eb3d-bdf2-44ef-db01-82e47314104c",
        "id": "cdyzRW0B8xUD"
      },
      "execution_count": 18,
      "outputs": [
        {
          "output_type": "execute_result",
          "data": {
            "text/plain": [
              "5"
            ]
          },
          "metadata": {},
          "execution_count": 18
        }
      ]
    },
    {
      "cell_type": "markdown",
      "source": [
        "## Analysis\n"
      ],
      "metadata": {
        "id": "SFZga2Pc8xUD"
      }
    },
    {
      "cell_type": "markdown",
      "source": [
        "1) Input size $n => T(n)$\n",
        "\n",
        "2) Basic operation: exponentiation on line 10\n",
        "\n",
        "3) Worst cases: no\n",
        "\n",
        "4) $T(n) = 1 + 1 +  .... +  1 = n$"
      ],
      "metadata": {
        "id": "L48BEYb84Ck2"
      }
    },
    {
      "cell_type": "markdown",
      "source": [
        "# Exercise 4\n"
      ],
      "metadata": {
        "id": "_NJhYkd48x5v"
      }
    },
    {
      "cell_type": "markdown",
      "source": [
        "## Algorithm"
      ],
      "metadata": {
        "id": "PPiIWv958x5w"
      }
    },
    {
      "cell_type": "code",
      "source": [
        "def fac(n):\n",
        "    \"\"\"\n",
        "    this function is used to compute the factorial of n (n!)\n",
        "    input: n - non-negative integer\n",
        "    output: n!\n",
        "    \"\"\"\n",
        "    result = 1\n",
        "    for i in range(1, n+1):\n",
        "        result = result * i\n",
        "    return result"
      ],
      "metadata": {
        "id": "GVeDsi6B8x5x"
      },
      "execution_count": null,
      "outputs": []
    },
    {
      "cell_type": "code",
      "source": [
        "fac(0)"
      ],
      "metadata": {
        "colab": {
          "base_uri": "https://localhost:8080/"
        },
        "id": "bgEqYPdOmc-x",
        "outputId": "1a4b0d77-61a3-4bf8-c133-55c78d4ba7c4"
      },
      "execution_count": null,
      "outputs": [
        {
          "output_type": "execute_result",
          "data": {
            "text/plain": [
              "1"
            ]
          },
          "metadata": {},
          "execution_count": 46
        }
      ]
    },
    {
      "cell_type": "code",
      "source": [
        "fac(3)"
      ],
      "metadata": {
        "colab": {
          "base_uri": "https://localhost:8080/"
        },
        "id": "e_ZmdBKDmoda",
        "outputId": "4453682c-4f63-4e80-cd09-a70ec857702a"
      },
      "execution_count": null,
      "outputs": [
        {
          "output_type": "execute_result",
          "data": {
            "text/plain": [
              "6"
            ]
          },
          "metadata": {},
          "execution_count": 47
        }
      ]
    },
    {
      "cell_type": "markdown",
      "source": [
        "##Analysis"
      ],
      "metadata": {
        "id": "2UUBD0u_mzPc"
      }
    },
    {
      "cell_type": "markdown",
      "source": [
        "1) Input size $n => T(n)$\n",
        "\n",
        "2) Basic operation: \"*\" on line 9\n",
        "\n",
        "3) Worst cases: no\n",
        "\n",
        "4) $T(n) = 1 + 1+ + ....+ 1 = n$"
      ],
      "metadata": {
        "id": "aONfsYIU-zGJ"
      }
    },
    {
      "cell_type": "markdown",
      "source": [
        "# Exercise 5\n"
      ],
      "metadata": {
        "id": "RUo57Tg68yCx"
      }
    },
    {
      "cell_type": "markdown",
      "source": [
        "## Algorithm"
      ],
      "metadata": {
        "id": "wd_qwXaa8yCx"
      }
    },
    {
      "cell_type": "code",
      "source": [
        "def checkDis(A):\n",
        "    \"\"\"\n",
        "    this function is used to check whether all elements in an array are distinct\n",
        "    input: A - an one dimensional array\n",
        "    output: True if all elements in an array are distinct\n",
        "            otherwise False\n",
        "    \"\"\"\n",
        "    for i in range(0,len(A)):\n",
        "      for j in range(i + 1, len(A)):\n",
        "        if (A[i] == A[j]):\n",
        "          return False\n",
        "    return True\n"
      ],
      "metadata": {
        "id": "J6CR-8ZA8yCx"
      },
      "execution_count": null,
      "outputs": []
    },
    {
      "cell_type": "code",
      "source": [
        "A = [71, 77, 47, 83, 84, 53, 51, 24, 91, 60]\n",
        "checkDis(A)"
      ],
      "metadata": {
        "colab": {
          "base_uri": "https://localhost:8080/"
        },
        "outputId": "95929adc-8e2e-448f-a5ef-75aa6d9048de",
        "id": "leEGyqXV8yCy"
      },
      "execution_count": null,
      "outputs": [
        {
          "output_type": "execute_result",
          "data": {
            "text/plain": [
              "True"
            ]
          },
          "metadata": {},
          "execution_count": 50
        }
      ]
    },
    {
      "cell_type": "code",
      "source": [
        "A = [71, 71, 47, 83, 84, 53, 51, 24, 91, 60]\n",
        "checkDis(A)"
      ],
      "metadata": {
        "colab": {
          "base_uri": "https://localhost:8080/"
        },
        "outputId": "07383800-9f32-4771-a0dc-d2ffbe887283",
        "id": "NnjqW6Oh8yCz"
      },
      "execution_count": null,
      "outputs": [
        {
          "output_type": "execute_result",
          "data": {
            "text/plain": [
              "False"
            ]
          },
          "metadata": {},
          "execution_count": 51
        }
      ]
    },
    {
      "cell_type": "markdown",
      "source": [
        "## Analysis\n"
      ],
      "metadata": {
        "id": "ojfPtamb8yC0"
      }
    },
    {
      "cell_type": "markdown",
      "source": [
        "1) Input size $n => T(n)$\n",
        "\n",
        "2) Basic operation: \"==\" on line 10\n",
        "\n",
        "3) Worst cases: All elements are distinct\n",
        "\n",
        "4) $T(n) = 1*(n-1) + 1*(n-2) +  .... +  1*1 = n^n$"
      ],
      "metadata": {
        "id": "bmr207z85a35"
      }
    },
    {
      "cell_type": "markdown",
      "source": [
        "# Exercise 6\n"
      ],
      "metadata": {
        "id": "8_WaUhV38u89"
      }
    },
    {
      "cell_type": "markdown",
      "source": [
        "## Algorithm"
      ],
      "metadata": {
        "id": "iv8u63dK8u8_"
      }
    },
    {
      "cell_type": "code",
      "source": [
        "def maxEle(A):\n",
        "    \"\"\"\n",
        "    this function is used to  find the maximum element in an array\n",
        "    input: A - the one-dimensional array whose elements are unique\n",
        "    output: maximum element in an array A\n",
        "    \"\"\"\n",
        "    max = A[0]\n",
        "    for i in A:\n",
        "      if (max < i):\n",
        "        max = i\n",
        "    return max\n"
      ],
      "metadata": {
        "id": "qOvZ5fnY8u9A"
      },
      "execution_count": 19,
      "outputs": []
    },
    {
      "cell_type": "code",
      "source": [
        "A = [71, 77, 47, 83, 84, 53, 51, 24, 91, 60]\n",
        "maxEle(A)"
      ],
      "metadata": {
        "colab": {
          "base_uri": "https://localhost:8080/"
        },
        "outputId": "a39cc427-8808-435d-a823-287c5af58ed1",
        "id": "BiKyKKtA8u9C"
      },
      "execution_count": 20,
      "outputs": [
        {
          "output_type": "execute_result",
          "data": {
            "text/plain": [
              "91"
            ]
          },
          "metadata": {},
          "execution_count": 20
        }
      ]
    },
    {
      "cell_type": "code",
      "source": [
        "A = [71, 77, 47, 83, 84, 53, 51, 24, 91, 600]\n",
        "maxEle(A)"
      ],
      "metadata": {
        "colab": {
          "base_uri": "https://localhost:8080/"
        },
        "outputId": "c0cb42e6-c896-42d1-9bb0-fb3e7c342b92",
        "id": "njV68qfe8u9D"
      },
      "execution_count": 21,
      "outputs": [
        {
          "output_type": "execute_result",
          "data": {
            "text/plain": [
              "600"
            ]
          },
          "metadata": {},
          "execution_count": 21
        }
      ]
    },
    {
      "cell_type": "markdown",
      "source": [
        "## Analysis\n"
      ],
      "metadata": {
        "id": "T5SPRfEe8u9E"
      }
    },
    {
      "cell_type": "markdown",
      "source": [
        "1) Input size $n => T(n)$\n",
        "\n",
        "2) Basic operation: smaller comparison on line 9\n",
        "\n",
        "3) Worst cases: The largest element is the last element of the array\n",
        "\n",
        "4) $T(n) = 1 + 1 +  .... +  1 = n$"
      ],
      "metadata": {
        "id": "1rIKeDNuDDCE"
      }
    },
    {
      "cell_type": "markdown",
      "source": [
        "# Exercise 7\n"
      ],
      "metadata": {
        "id": "BfZuvSRr87UI"
      }
    },
    {
      "cell_type": "markdown",
      "source": [
        "## Algorithm"
      ],
      "metadata": {
        "id": "pKyoDMTu87Ug"
      }
    },
    {
      "cell_type": "code",
      "source": [
        "def mul2Matrices(A,B):\n",
        "    \"\"\"\n",
        "    this function is used for multiplying (×) two matrices\n",
        "    input: Matrix A has size n*m and matrix B has size m*p\n",
        "    output: Matrix C - result of multiplication of two matrices A and B, , whose size is n*p\n",
        "    \"\"\"\n",
        "    n = len(A)\n",
        "    m = len(A[0])\n",
        "    p = len(B[0])\n",
        "    C = [[0] * p for _ in range(n)]\n",
        "    for i in range(n):\n",
        "      for j in range(p):\n",
        "        sum_product = 0\n",
        "        for k in range(m):\n",
        "          sum_product += A[i][k] * B[k][j]\n",
        "        C[i][j] = sum_product\n",
        "    return C"
      ],
      "metadata": {
        "id": "LxhqXJl887Uh"
      },
      "execution_count": 22,
      "outputs": []
    },
    {
      "cell_type": "code",
      "source": [
        "A = [\n",
        "    [1, 2],\n",
        "    [3, 4]\n",
        "]\n",
        "\n",
        "B = [\n",
        "    [5, 6],\n",
        "    [7, 8]\n",
        "]\n",
        "\n",
        "mul2Matrices(A,B)"
      ],
      "metadata": {
        "colab": {
          "base_uri": "https://localhost:8080/"
        },
        "outputId": "c4b5953f-16b2-4100-8612-befd80750dc6",
        "id": "uRFJsWgy87Uh"
      },
      "execution_count": 23,
      "outputs": [
        {
          "output_type": "execute_result",
          "data": {
            "text/plain": [
              "[[19, 22], [43, 50]]"
            ]
          },
          "metadata": {},
          "execution_count": 23
        }
      ]
    },
    {
      "cell_type": "markdown",
      "source": [
        "## Analysis\n"
      ],
      "metadata": {
        "id": "7u2OZvD887Ui"
      }
    },
    {
      "cell_type": "markdown",
      "source": [
        "1) Input size $n,m,p => T(n,m,p)$\n",
        "\n",
        "2) Basic operation: \"*\" on line 15\n",
        "\n",
        "3) Worst cases: no\n",
        "\n",
        "4) $T(n,m,p) =n*p + 1*m*1 + 1*m*1 +  .... +  1*m*1 = n*m*p$"
      ],
      "metadata": {
        "id": "H1muM_pqDFI0"
      }
    },
    {
      "cell_type": "markdown",
      "source": [
        "# Exercise 8\n"
      ],
      "metadata": {
        "id": "CWmk2qAR89KH"
      }
    },
    {
      "cell_type": "markdown",
      "source": [
        "## Algorithm"
      ],
      "metadata": {
        "id": "Uq3DACU789KJ"
      }
    },
    {
      "cell_type": "code",
      "source": [
        "def mulIn(A,n):\n",
        "    \"\"\"\n",
        "    this function is used for multiplying (×) a matrix with a number\n",
        "    input: matrix A has size a*b , number n\n",
        "    output: matrix A after multiplying with n\n",
        "    \"\"\"\n",
        "    a = len(A)\n",
        "    b = len(A[0])\n",
        "    for i in range(0,a):\n",
        "      for j in range(0,b):\n",
        "        A[i][j] = A[i][j] * n;\n",
        "    print(A)\n"
      ],
      "metadata": {
        "id": "IE487dcE89KK"
      },
      "execution_count": 24,
      "outputs": []
    },
    {
      "cell_type": "code",
      "source": [
        "A = [\n",
        "    [1, 2],\n",
        "    [3, 4]\n",
        "]\n",
        "mulIn(A,5)"
      ],
      "metadata": {
        "colab": {
          "base_uri": "https://localhost:8080/"
        },
        "outputId": "1b8fc83e-6da1-4a88-d6e8-67c885c3bc7a",
        "id": "aTeuVD1J89KM"
      },
      "execution_count": 25,
      "outputs": [
        {
          "output_type": "stream",
          "name": "stdout",
          "text": [
            "[[5, 10], [15, 20]]\n"
          ]
        }
      ]
    },
    {
      "cell_type": "markdown",
      "source": [
        "## Analysis\n"
      ],
      "metadata": {
        "id": "wukroIaH89KO"
      }
    },
    {
      "cell_type": "markdown",
      "source": [
        "1) Input size $a,b => T(a,b)$\n",
        "\n",
        "2) Basic operation: \"*\" on line 11\n",
        "\n",
        "3) Worst cases: no\n",
        "\n",
        "4) $T(a,b) = 1*b + 1*b +  .... +  1*b = a*b$"
      ],
      "metadata": {
        "id": "SIzEBzkbDGiK"
      }
    },
    {
      "cell_type": "markdown",
      "source": [
        "# Exercise 9\n"
      ],
      "metadata": {
        "id": "XTppTeOj9AUQ"
      }
    },
    {
      "cell_type": "markdown",
      "source": [
        "## Algorithm"
      ],
      "metadata": {
        "id": "ch0O1JBs9AUq"
      }
    },
    {
      "cell_type": "code",
      "source": [
        "def sub2Matrices(A,B):\n",
        "    \"\"\"\n",
        "    this function is used for subtracting (-)  two matrices\n",
        "    input: Matrix A has size n*m and matrix B has size n*m\n",
        "    output: Matrix C has size n*m - the result of matrix A sub matrix B\n",
        "    \"\"\"\n",
        "    n = len(A)\n",
        "    m = len(A[0])\n",
        "    C = [[0 for _ in range(m)] for _ in range(n)]\n",
        "    for i in range(n):\n",
        "      for j in range(m):\n",
        "            C[i][j] = A[i][j] - B[i][j]\n",
        "    return C\n"
      ],
      "metadata": {
        "id": "XONztG-zg2ZG"
      },
      "execution_count": 26,
      "outputs": []
    },
    {
      "cell_type": "code",
      "source": [
        "A = [\n",
        "    [1, 2],\n",
        "    [3, 4]\n",
        "]\n",
        "\n",
        "B = [\n",
        "    [5, 6],\n",
        "    [7, 8]\n",
        "]\n",
        "\n",
        "sub2Matrices(A,B)"
      ],
      "metadata": {
        "colab": {
          "base_uri": "https://localhost:8080/"
        },
        "outputId": "aa55fb6d-4a7a-42a3-d3a9-47fe842b8b5d",
        "id": "qrgbovdLg2ZG"
      },
      "execution_count": 27,
      "outputs": [
        {
          "output_type": "execute_result",
          "data": {
            "text/plain": [
              "[[-4, -4], [-4, -4]]"
            ]
          },
          "metadata": {},
          "execution_count": 27
        }
      ]
    },
    {
      "cell_type": "markdown",
      "source": [
        "## Analysis\n"
      ],
      "metadata": {
        "id": "lcbCyQFY9AUs"
      }
    },
    {
      "cell_type": "markdown",
      "source": [
        "1) Input size $n,m => T(n,m)$\n",
        "\n",
        "2) Basic operation: \"-\" on line 12\n",
        "\n",
        "3) Worst cases: no\n",
        "\n",
        "4) $T(n,m) =n*m + 1*m + 1*m +  .... +  1*m = n*m$"
      ],
      "metadata": {
        "id": "LFzUeFbFDHZP"
      }
    },
    {
      "cell_type": "markdown",
      "source": [
        "# Exercise 10\n"
      ],
      "metadata": {
        "id": "ga6RTp5tjDWr"
      }
    },
    {
      "cell_type": "markdown",
      "source": [
        "## Algorithm"
      ],
      "metadata": {
        "id": "CVisCKyfjDWx"
      }
    },
    {
      "cell_type": "code",
      "source": [
        "def add2Matrices(A,B):\n",
        "    \"\"\"\n",
        "    this function is used for adding (-)  two matrices\n",
        "    input: Matrix A has size n*m and matrix B has size n*m\n",
        "    output: Matrix C has size n*m - the result of matrix A add matrix B\n",
        "    \"\"\"\n",
        "    n = len(A)\n",
        "    m = len(A[0])\n",
        "    C = [[0 for _ in range(m)] for _ in range(n)]\n",
        "    for i in range(n):\n",
        "      for j in range(m):\n",
        "            C[i][j] = A[i][j] + B[i][j]\n",
        "    return C\n"
      ],
      "metadata": {
        "id": "c2A5PNeCjDWy"
      },
      "execution_count": 28,
      "outputs": []
    },
    {
      "cell_type": "code",
      "source": [
        "A = [\n",
        "    [1, 2],\n",
        "    [3, 4]\n",
        "]\n",
        "\n",
        "B = [\n",
        "    [5, 6],\n",
        "    [7, 8]\n",
        "]\n",
        "\n",
        "add2Matrices(A,B)"
      ],
      "metadata": {
        "colab": {
          "base_uri": "https://localhost:8080/"
        },
        "outputId": "526f0e48-5a45-4bfc-e5ba-01d3257073b2",
        "id": "tyvnr67ijDWy"
      },
      "execution_count": 29,
      "outputs": [
        {
          "output_type": "execute_result",
          "data": {
            "text/plain": [
              "[[6, 8], [10, 12]]"
            ]
          },
          "metadata": {},
          "execution_count": 29
        }
      ]
    },
    {
      "cell_type": "markdown",
      "source": [
        "## Analysis\n"
      ],
      "metadata": {
        "id": "c1-VWZ_rjDWy"
      }
    },
    {
      "cell_type": "markdown",
      "source": [
        "1) Input size $n,m => T(n,m)$\n",
        "\n",
        "2) Basic operation: \"+\" on line 12\n",
        "\n",
        "3) Worst cases: no\n",
        "\n",
        "4) $T(n,m) = n*m + 1*m + 1*m +  .... +  1*m = n*m$"
      ],
      "metadata": {
        "id": "rJ8CsFXZNcLB"
      }
    }
  ]
}