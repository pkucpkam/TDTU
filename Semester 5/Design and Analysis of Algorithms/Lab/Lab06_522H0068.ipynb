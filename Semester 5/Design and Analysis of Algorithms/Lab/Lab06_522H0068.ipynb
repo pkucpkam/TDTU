{
  "nbformat": 4,
  "nbformat_minor": 0,
  "metadata": {
    "colab": {
      "provenance": [],
      "toc_visible": true
    },
    "kernelspec": {
      "name": "python3",
      "display_name": "Python 3"
    },
    "language_info": {
      "name": "python"
    }
  },
  "cells": [
    {
      "cell_type": "markdown",
      "source": [
        "# Exercise 1"
      ],
      "metadata": {
        "id": "PmDn1jDzIkfr"
      }
    },
    {
      "cell_type": "code",
      "source": [
        "def binomial(n, k):\n",
        "  '''\n",
        "  Calculates the binomial coefficient C(n, k) using dynamic programming.\n",
        "  Input:\n",
        "  n (int): The number of elements in the set.\n",
        "  k (int): The number of elements to choose from the set.\n",
        "  Output: The binomial coefficient C(n, k).\n",
        "  '''\n",
        "  C = [[0] * (k + 1) for _ in range(n + 1)]\n",
        "  for i in range(n + 1):\n",
        "    for j in range(min(i, k) + 1):\n",
        "      if j == 0 or j == i:\n",
        "        C[i][j] = 1\n",
        "      else:\n",
        "        C[i][j] = C[i - 1][j - 1] + C[i - 1][j]\n",
        "  return C[n][k]\n",
        "\n",
        "# Example usage:\n",
        "n = 5\n",
        "k = 2\n",
        "print(f\"C({n}, {k}) = {binomial(n, k)}\")  # Output: C(5, 2) = 10\n"
      ],
      "metadata": {
        "colab": {
          "base_uri": "https://localhost:8080/"
        },
        "id": "Tf9lXJxUJiEy",
        "outputId": "541e26be-0e24-403b-bf5e-850fcab9dc4b"
      },
      "execution_count": null,
      "outputs": [
        {
          "output_type": "stream",
          "name": "stdout",
          "text": [
            "C(5, 2) = 10\n"
          ]
        }
      ]
    },
    {
      "cell_type": "markdown",
      "source": [
        "## Analysis\n",
        "\n",
        "Input size: n,k => T(n,k)\n",
        "\n",
        "Basic operation: Comparison in line 4\n",
        "\n",
        "Worse case: k = n\n",
        "\n",
        "$T(n,k) = 1 + 2 + 3 +  ... + (n) = (n)*(n+1)/2 = n^2$\n",
        "\n",
        "Thus $T(n,k)∈ Θ(n^2)$"
      ],
      "metadata": {
        "id": "BTt-QTa7Ipkz"
      }
    },
    {
      "cell_type": "markdown",
      "source": [
        "# Exercise 2"
      ],
      "metadata": {
        "id": "VZ1wjvr_Is86"
      }
    },
    {
      "cell_type": "code",
      "source": [
        "def max_coin_value(n, coins):\n",
        "  '''\n",
        "    Calculates the maximum value of coins that can be obtained using dynamic programming.\n",
        "    Input:\n",
        "      n (int): The number of coins.\n",
        "      coins (list): The list of coin values.\n",
        "    Output: The maximum value of coins that can be obtained.\n",
        "  '''\n",
        "  if n == 0:\n",
        "    return 0\n",
        "  if n == 1:\n",
        "    return coins[0]\n",
        "\n",
        "  F = [0] * n\n",
        "  F[0] = coins[0]\n",
        "  F[1] = max(coins[0], coins[1])\n",
        "\n",
        "  for i in range(2, n):\n",
        "    F[i] = max(coins[i] + F[i - 2], F[i - 1])\n",
        "  return F[n - 1]\n",
        "\n",
        "#Test\n",
        "n = 6\n",
        "coins = [100,3,2,6,10,7]\n",
        "\n",
        "print(max_coin_value(n, coins))\n"
      ],
      "metadata": {
        "colab": {
          "base_uri": "https://localhost:8080/"
        },
        "id": "7gdEYToxIs87",
        "outputId": "70a64301-203c-48fe-85ad-29aacf5ef0cd"
      },
      "execution_count": null,
      "outputs": [
        {
          "output_type": "stream",
          "name": "stdout",
          "text": [
            "113\n"
          ]
        }
      ]
    },
    {
      "cell_type": "markdown",
      "source": [
        "## Analysis\n",
        "\n",
        "Input size: n => T(n)\n",
        "\n",
        "Basic operation: Expression on line 9\n",
        "\n",
        "Worse case: No\n",
        "\n",
        "$T(n) = 1 + 1 + ... + (n-2) = n$\n",
        "\n",
        "Thus $T(n)∈ Θ(n)$"
      ],
      "metadata": {
        "id": "-ZSXlm9DTwFH"
      }
    },
    {
      "cell_type": "markdown",
      "source": [
        "# Exercise 3"
      ],
      "metadata": {
        "id": "97LuniTdItGI"
      }
    },
    {
      "cell_type": "code",
      "source": [
        "def change_making(D, n):\n",
        "    '''\n",
        "    Calculates the minimum number of coins needed to make change for a given amount n\n",
        "    using dynamic programming.\n",
        "\n",
        "    Input:\n",
        "        D (list): List of coin denominations (D[0] = 1).\n",
        "        n (int): The target amount of money.\n",
        "\n",
        "    Output:\n",
        "        int: The minimum number of coins required to make change for amount n.\n",
        "             Returns -1 if it is not possible to make change.\n",
        "    '''\n",
        "    F = [float('inf')] * (n + 1)\n",
        "    F[0] = 0\n",
        "\n",
        "    for i in range(1, n + 1):\n",
        "        for coin in D:\n",
        "            if coin <= i:\n",
        "                F[i] = min(F[i], F[i - coin] + 1)\n",
        "\n",
        "    return F[n] if F[n] != float('inf') else -1\n",
        "\n",
        "# Ví dụ sử dụng\n",
        "D = [1, 2, 5]\n",
        "n = 11\n",
        "print(change_making(D, n))  # Output: 3 (2 đồng xu 5 và 1 đồng xu 1)\n"
      ],
      "metadata": {
        "colab": {
          "base_uri": "https://localhost:8080/"
        },
        "id": "Px20DCs6ItGJ",
        "outputId": "af9b1fd4-3bfa-49a5-af65-1343504e5887"
      },
      "execution_count": null,
      "outputs": [
        {
          "output_type": "stream",
          "name": "stdout",
          "text": [
            "3\n"
          ]
        }
      ]
    },
    {
      "cell_type": "markdown",
      "source": [
        "## Analysis\n",
        "\n",
        "Input size: n and m (size of list D) => T(n,m)\n",
        "\n",
        "Basic operation: Expression on line 6\n",
        "\n",
        "Worse case: he worst-case scenario occurs when the amount n is large and there are many denominations.\n",
        "\n",
        "$T(n) = n*m $\n",
        "\n",
        "Thus $T(n)∈ Θ(n*m)$"
      ],
      "metadata": {
        "id": "cqfECUStVtzr"
      }
    }
  ]
}