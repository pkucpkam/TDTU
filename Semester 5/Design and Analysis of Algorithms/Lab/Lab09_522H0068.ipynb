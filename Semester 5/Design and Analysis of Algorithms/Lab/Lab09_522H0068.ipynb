{
  "nbformat": 4,
  "nbformat_minor": 0,
  "metadata": {
    "colab": {
      "provenance": [],
      "toc_visible": true
    },
    "kernelspec": {
      "name": "python3",
      "display_name": "Python 3"
    },
    "language_info": {
      "name": "python"
    }
  },
  "cells": [
    {
      "cell_type": "markdown",
      "source": [
        "# Stable Marriage Problem"
      ],
      "metadata": {
        "id": "qDqr-QQQTvx0"
      }
    },
    {
      "cell_type": "markdown",
      "source": [
        "## Aglorithm"
      ],
      "metadata": {
        "id": "tSDfGLdNT1dC"
      }
    },
    {
      "cell_type": "code",
      "execution_count": 1,
      "metadata": {
        "colab": {
          "base_uri": "https://localhost:8080/"
        },
        "id": "4OVPFtKDREkx",
        "outputId": "10c259df-b88a-4463-b994-534713d475bf"
      },
      "outputs": [
        {
          "output_type": "stream",
          "name": "stdout",
          "text": [
            "A is matched with X\n",
            "B is matched with Y\n",
            "C is matched with Z\n"
          ]
        }
      ],
      "source": [
        "class Man:\n",
        "    def __init__(self, name, preference):\n",
        "        self.name = name\n",
        "        self.preference = preference\n",
        "        self.status = None\n",
        "        self.unproposed_preference = list(preference.keys())\n",
        "\n",
        "class Woman:\n",
        "    def __init__(self, name, preference):\n",
        "        self.name = name\n",
        "        self.preference = preference\n",
        "        self.status = None\n",
        "\n",
        "men_preferences = {\n",
        "    \"A\": {\"X\": 1, \"Y\": 2, \"Z\": 3},\n",
        "    \"B\": {\"Y\": 1, \"Z\": 2, \"X\": 3},\n",
        "    \"C\": {\"Z\": 1, \"X\": 2, \"Y\": 3}\n",
        "}\n",
        "\n",
        "women_preferences = {\n",
        "    \"X\": {\"A\": 1, \"B\": 2, \"C\": 3},\n",
        "    \"Y\": {\"B\": 1, \"A\": 2, \"C\": 3},\n",
        "    \"Z\": {\"C\": 1, \"B\": 2, \"A\": 3}\n",
        "}\n",
        "\n",
        "men = [Man(name, preferences) for name, preferences in men_preferences.items()]\n",
        "women = [Woman(name, preferences) for name, preferences in women_preferences.items()]\n",
        "\n",
        "def select(men):\n",
        "    for man in men:\n",
        "        if man.status is None and man.unproposed_preference:\n",
        "            return man\n",
        "    return None\n",
        "\n",
        "def propose(men, women, man):\n",
        "    woman_name = man.unproposed_preference.pop(0)\n",
        "    woman = next(w for w in women if w.name == woman_name)\n",
        "\n",
        "    if woman.status is None:\n",
        "        man.status = woman.name\n",
        "        woman.status = man.name\n",
        "    else:\n",
        "        current_partner = woman.status\n",
        "        if woman.preference[man.name] < woman.preference[current_partner]:\n",
        "            current_man = next(m for m in men if m.name == current_partner)\n",
        "            current_man.status = None\n",
        "            man.status = woman.name\n",
        "            woman.status = man.name\n",
        "\n",
        "def stable_marriage(men, women):\n",
        "    while True:\n",
        "        man = select(men)\n",
        "        if not man:\n",
        "            break\n",
        "        propose(men, women, man)\n",
        "\n",
        "# Chạy thuật toán\n",
        "stable_marriage(men, women)\n",
        "\n",
        "# Hiển thị kết quả\n",
        "for man in men:\n",
        "    print(f\"{man.name} is matched with {man.status}\")\n"
      ]
    }
  ]
}