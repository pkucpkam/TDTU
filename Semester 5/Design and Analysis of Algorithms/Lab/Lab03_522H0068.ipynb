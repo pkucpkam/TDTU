{
  "nbformat": 4,
  "nbformat_minor": 0,
  "metadata": {
    "colab": {
      "provenance": []
    },
    "kernelspec": {
      "name": "python3",
      "display_name": "Python 3"
    },
    "language_info": {
      "name": "python"
    }
  },
  "cells": [
    {
      "cell_type": "markdown",
      "source": [
        "## a. \tExponential power"
      ],
      "metadata": {
        "id": "GX32px8S37IR"
      }
    },
    {
      "cell_type": "code",
      "source": [
        "def exponential_power(a, n):\n",
        "  \"\"\"Calculates the exponential power of a positive integer a^n.\n",
        "  Input:\n",
        "    a: The base integer.\n",
        "    n: The exponent integer.\n",
        "  Output:\n",
        "    The result of a^n.\n",
        "  \"\"\"\n",
        "  if n == 0:\n",
        "    return 1\n",
        "  elif n < 0:\n",
        "    return 1 / exponential_power(a, -n)\n",
        "  else:\n",
        "    result = 1\n",
        "    for _ in range(n):\n",
        "      result *= a\n",
        "    return result\n",
        "\n",
        "# Example\n",
        "a = 2\n",
        "n = 3\n",
        "result = exponential_power(a, n)\n",
        "print(f\"{a}^{n} = {result}\")\n"
      ],
      "metadata": {
        "colab": {
          "base_uri": "https://localhost:8080/"
        },
        "id": "mzmQ21V55XYO",
        "outputId": "1cec0585-b1b5-4de6-eed6-063af86a9c2a"
      },
      "execution_count": null,
      "outputs": [
        {
          "output_type": "stream",
          "name": "stdout",
          "text": [
            "2^3 = 8\n"
          ]
        }
      ]
    },
    {
      "cell_type": "markdown",
      "source": [
        "### Analyze\n",
        "\n",
        "Input size : n => T(n)\n",
        "\n",
        "Basic operation is multiplication on line 16\n",
        "\n",
        "There is no worst case\n",
        "\n",
        "T(n) = 1 + 1 + ... + 1 = n\n",
        "\n",
        "So the complexity of the algorithm is $Θ(n)$\n",
        "\n"
      ],
      "metadata": {
        "id": "RY0s8-QN5X5f"
      }
    },
    {
      "cell_type": "markdown",
      "source": [
        "## b. \tCombination"
      ],
      "metadata": {
        "id": "M6YOPwEV443N"
      }
    },
    {
      "cell_type": "code",
      "source": [
        "\n",
        "def combination(n, k):\n",
        "  \"\"\"Calculates the number of combinations (n choose k).\n",
        "  Input:\n",
        "    n: The total number of items.\n",
        "    k: The number of items to choose.\n",
        "  Output:\n",
        "    The number of combinations (n choose k).\n",
        "  \"\"\"\n",
        "  if k < 0 or k > n:\n",
        "    return 0\n",
        "  if k == 0 or k == n:\n",
        "    return 1\n",
        "  if k > n // 2:\n",
        "    k = n - k\n",
        "  result = 1\n",
        "  for i in range(k):\n",
        "    result = result * (n - i) // (i + 1)\n",
        "  return result\n",
        "\n",
        "# Example\n",
        "n = 5\n",
        "k = 2\n",
        "result = combination(n, k)\n",
        "print(f\"C({n}, {k}) = {result}\")\n"
      ],
      "metadata": {
        "id": "TmvU8ZLC6Yme"
      },
      "execution_count": null,
      "outputs": []
    },
    {
      "cell_type": "markdown",
      "source": [
        "### Analyze\n",
        "\n",
        "Input size : $n, k => T(n,k)$\n",
        "\n",
        "Basic operation is multiplication on line 17\n",
        "\n",
        "Worse case : k = n / 2\n",
        "\n",
        "T(n,k) = 1 + 1 + ... + 1 = n\n",
        "\n",
        "So the complexity of the algorithm is $Θ(n)$"
      ],
      "metadata": {
        "id": "3IUB2ypm7Pib"
      }
    },
    {
      "cell_type": "markdown",
      "source": [
        "## c. \tMatrix multiplication"
      ],
      "metadata": {
        "id": "ytGreU844496"
      }
    },
    {
      "cell_type": "code",
      "source": [
        "\n",
        "def matrix_multiplication(A, B):\n",
        "  \"\"\"Multiplies two square matrices A and B.\n",
        "  Input:\n",
        "    A: A square matrix has size n*n.\n",
        "    B: A square matrix has size n*n.\n",
        "  Output:\n",
        "    The product matrix C = A * B.\n",
        "  \"\"\"\n",
        "  n = len(A)\n",
        "  C = [[0] * n for _ in range(n)]\n",
        "  for i in range(n):\n",
        "    for j in range(n):\n",
        "      for k in range(n):\n",
        "        C[i][j] += A[i][k] * B[k][j]\n",
        "  return C\n",
        "\n",
        "# Example\n",
        "A = [[1, 2], [3, 4]]\n",
        "B = [[5, 6], [7, 8]]\n",
        "C = matrix_multiplication(A, B)\n",
        "print(\"Matrix A:\")\n",
        "for row in A:\n",
        "  print(row)\n",
        "print(\"Matrix B:\")\n",
        "for row in B:\n",
        "  print(row)\n",
        "print(\"Matrix C (A * B):\")\n",
        "for row in C:\n",
        "  print(row)\n"
      ],
      "metadata": {
        "id": "8e_x9h5u7JBj"
      },
      "execution_count": null,
      "outputs": []
    },
    {
      "cell_type": "markdown",
      "source": [
        "### Analyze\n",
        "\n",
        "Input size: n => T(n)\n",
        "\n",
        "Basic operation is multiplication on line 14\n",
        "\n",
        "There is no worst case\n",
        "\n",
        "$T(n)= n*n*n = n^3$\n",
        "\n",
        "So the complexity of the algorithm is $Θ(n^3)$\n"
      ],
      "metadata": {
        "id": "28VtcX4X65bN"
      }
    },
    {
      "cell_type": "markdown",
      "source": [
        "## d. \tNearest pair (closest pair)"
      ],
      "metadata": {
        "id": "d0OvUNvF45Dh"
      }
    },
    {
      "cell_type": "code",
      "source": [
        "\n",
        "import math\n",
        "\n",
        "def euclidean_distance(point1, point2):\n",
        "  \"\"\"Calculates the Euclidean distance between two points.\n",
        "    Input:\n",
        "    point1: A tuple representing the coordinates of the first point.\n",
        "    point2: A tuple representing the coordinates of the second point.\n",
        "    Output:\n",
        "    The Euclidean distance between the two points.\n",
        "  \"\"\"\n",
        "  distance = 0\n",
        "  for i in range(len(point1)):\n",
        "    distance += (point1[i] - point2[i]) ** 2\n",
        "  return math.sqrt(distance)\n",
        "\n",
        "def nearest_pair(points):\n",
        "  \"\"\"Finds the nearest pair of points using brute force.\n",
        "    Input:\n",
        "    points: A list of tuples representing the coordinates of the points.\n",
        "    Output:\n",
        "    A tuple containing the nearest pair of points and their distance.\n",
        "  \"\"\"\n",
        "  if len(points) < 2:\n",
        "    return None, float('inf')\n",
        "\n",
        "  min_distance = float('inf')\n",
        "  nearest_pair_points = None\n",
        "\n",
        "  for i in range(len(points)):\n",
        "    for j in range(i + 1, len(points)):\n",
        "      distance = euclidean_distance(points[i], points[j])\n",
        "      if distance < min_distance:\n",
        "        min_distance = distance\n",
        "        nearest_pair_points = (points[i], points[j])\n",
        "\n",
        "  return nearest_pair_points, min_distance\n",
        "\n",
        "# Example\n",
        "points = [(1, 2), (3, 4), (5, 6), (7, 8)]\n",
        "nearest_pair_points, min_distance = nearest_pair(points)\n",
        "\n",
        "if nearest_pair_points:\n",
        "  print(f\"Nearest pair: {nearest_pair_points[0]}, {nearest_pair_points[1]}\")\n",
        "else:\n",
        "  print(\"No nearest pair found.\")\n",
        "\n"
      ],
      "metadata": {
        "colab": {
          "base_uri": "https://localhost:8080/"
        },
        "id": "7MOjpib2DtzD",
        "outputId": "626f5a07-6bb5-42e3-c561-038af8df9dd8"
      },
      "execution_count": null,
      "outputs": [
        {
          "output_type": "stream",
          "name": "stdout",
          "text": [
            "Nearest pair: (1, 2), (3, 4)\n"
          ]
        }
      ]
    },
    {
      "cell_type": "markdown",
      "source": [
        "### Analysis\n",
        "#### *Function: squared_distance:*\n",
        "Input size is the number of dimensions of points (d)\n",
        "\n",
        "Basic operation is multiplication on line 13\n",
        "\n",
        "There is no worst case\n",
        "\n",
        "T(d)=d\n",
        "\n",
        "\n",
        "#### *Function closest_pair:*\n",
        "Input size is a tuple of n,d, where n- the number of points, d – number of dimensions.\n",
        "\n",
        "The most time-consuming part is the call to squared_distance() on line 25.\n",
        "\n",
        "There is no worst case\n",
        "\n",
        "Count:\n",
        "when i=0, (n-1)×d ops\n",
        "\n",
        "when i=1, (n-2)×d ops\n",
        "\n",
        "…\n",
        "when i=n-2, 1×d ops\n",
        "\n",
        "$T(n,d)=d*(1+⋯+n-2+n-1)$\n",
        "\n",
        "$T(n,d)=d*(n-1)n/2$\n",
        "\n",
        "So the complexity of the algorithm is $Θ(d*(n-1)*n/2)$\n"
      ],
      "metadata": {
        "id": "cU19wcZkDls8"
      }
    },
    {
      "cell_type": "markdown",
      "source": [
        "## e. \tConvex hull"
      ],
      "metadata": {
        "id": "3y83LqAF45Is"
      }
    },
    {
      "cell_type": "code",
      "source": [
        "import math\n",
        "\n",
        "def distance_from_line(a, b, c, point):\n",
        "    \"\"\"Calculates the distance from a point to the line ax + by + c = 0.\n",
        "    Input:\n",
        "    a, b, c: Coefficients of the line equation ax + by + c = 0.\n",
        "    point: A tuple representing the coordinates of the point.\n",
        "    Output:\n",
        "    The distance from the point to the line.\n",
        "    \"\"\"\n",
        "    x0, y0 = point\n",
        "    return (a * x0 + b * y0 + c) / math.sqrt(a**2 + b**2)\n",
        "\n",
        "def convex_hull(points):\n",
        "    \"\"\"Finds the convex hull for a set of points using the brute-force algorithm.\n",
        "\n",
        "    Input:\n",
        "    points: A list of tuples, each representing the coordinates of a point.\n",
        "\n",
        "    Output:\n",
        "    A list of line segments that form the convex hull, where each segment is represented by a pair of points.\n",
        "    \"\"\"\n",
        "    n = len(points)\n",
        "    hull = []\n",
        "\n",
        "    for i in range(n - 1):\n",
        "        for j in range(i + 1, n):\n",
        "            x1, y1 = points[i]\n",
        "            x2, y2 = points[j]\n",
        "            a = y1 - y2\n",
        "            b = x2 - x1\n",
        "            c = x1 * y2 - x2 * y1\n",
        "\n",
        "            positive = negative = False\n",
        "            for k in range(n):\n",
        "                if k != i and k != j:\n",
        "                    distance = distance_from_line(a, b, c, points[k])\n",
        "                    if distance > 0:\n",
        "                        positive = True\n",
        "                    elif distance < 0:\n",
        "                        negative = True\n",
        "\n",
        "            if not (positive and negative):\n",
        "                hull.append((points[i], points[j]))\n",
        "\n",
        "    return hull\n",
        "\n",
        "# Ví dụ\n",
        "points = [(0, 0), (1, 1), (2, 2), (1, 0), (0, 1)]\n",
        "hull_segments = convex_hull(points)\n",
        "print(\"Convex Hull Segments:\", hull_segments)\n"
      ],
      "metadata": {
        "id": "-R1xeEmyHC7e"
      },
      "execution_count": null,
      "outputs": []
    },
    {
      "cell_type": "markdown",
      "source": [
        "## Analysis\n",
        "\n",
        "### Function distance_from_line:\n",
        "\n",
        "Input size: a, b, c, and a point tuple(x0 ,y0)\n",
        "\n",
        "Basic operation : calculation on line 11\n",
        "\n",
        "Worse case: No\n",
        "\n",
        "The distance_from_line function has Θ(1) time complexity, since the number of operations does not change based on the input size.\n",
        "\n",
        "### Function convex_hull:\n",
        "\n",
        "Input size: n (the number of points in the set) => T(n)\n",
        "\n",
        "Basic operation is calculating the distance from a point to a line (in the distance_from_line function)\n",
        "\n",
        "Worse case: When all points must be checked for each pair of points\n",
        "\n",
        "$T(n)= (n*(n-1)/2)*(n - 2) = n^3$\n",
        "\n",
        "So the complexity of the algorithm is $Θ(n^3)$"
      ],
      "metadata": {
        "id": "jQqYthk4hnWz"
      }
    },
    {
      "cell_type": "markdown",
      "source": [
        "## f. \tTravelling Salesman Problem"
      ],
      "metadata": {
        "id": "QKbeiwrB45Op"
      }
    },
    {
      "cell_type": "code",
      "source": [
        "def calculate_path_weight(graph, path):\n",
        "  \"\"\"\n",
        "    Calculates the total weight of a specific path in the graph.\n",
        "    Input:\n",
        "    - graph: A dictionary representing the graph where the keys are the vertices,\n",
        "             and the values are dictionaries containing the connected edges and their corresponding weights.\n",
        "    - path: A list of vertices representing a path.\n",
        "     Output:\n",
        "    - The total weight of the path, including the weight to return to the starting vertex.\n",
        "    \"\"\"\n",
        "  total_weight = 0\n",
        "  for i in range(len(path) - 1):\n",
        "    total_weight += graph[path[i]][path[i+1]]\n",
        "  total_weight += graph[path[-1]][path[0]]\n",
        "  return total_weight\n",
        "\n",
        "def generate_permutations(arr, l, r, result):\n",
        "  \"\"\"\n",
        "    Generates all possible permutations of a list of vertices.\n",
        "\n",
        "    Input:\n",
        "    - arr: List of vertices to generate permutations.\n",
        "    - l: Start index for swapping.\n",
        "    - r: End index for swapping.\n",
        "    - result: A list to store the generated permutations.\n",
        "\n",
        "    Output:\n",
        "    - The permutations are stored in the 'result' list.\n",
        "    \"\"\"\n",
        "\n",
        "  if l == r:\n",
        "    result.append(arr[:])\n",
        "  else:\n",
        "    for i in range(l, r + 1):\n",
        "      arr[l], arr[i] = arr[i], arr[l]\n",
        "      generate_permutations(arr, l + 1, r, result)\n",
        "      arr[l], arr[i] = arr[i], arr[l]\n",
        "\n",
        "def tsp_brute_force(graph):\n",
        "  \"\"\"\n",
        "    Solves the Travelling Salesman Problem (TSP).\n",
        "\n",
        "    Input:\n",
        "    - graph: A dictionary representing the graph where the keys are the vertices,\n",
        "             and the values are dictionaries containing the connected edges and their corresponding weights.\n",
        "\n",
        "    Output:\n",
        "    - min_path: The permutation of vertices that gives the minimum path weight.\n",
        "    - min_weight: The minimum weight of the path.\n",
        "    \"\"\"\n",
        "  vertices = list(graph.keys())\n",
        "  min_path = None\n",
        "  min_weight = float('inf')\n",
        "  permutations = []\n",
        "\n",
        "  generate_permutations(vertices, 0, len(vertices) - 1, permutations)\n",
        "\n",
        "  for perm in permutations:\n",
        "    current_weight = calculate_path_weight(graph, perm)\n",
        "    if current_weight < min_weight:\n",
        "      min_weight = current_weight\n",
        "      min_path = perm\n",
        "    return min_path, min_weight\n",
        "\n",
        "graph = {\n",
        "    0: {1: 10, 2: 15, 3: 20},\n",
        "    1: {0: 10, 2: 35, 3: 25},\n",
        "    2: {0: 15, 1: 35, 3: 30},\n",
        "    3: {0: 20, 1: 25, 2: 30}\n",
        "}\n",
        "\n",
        "min_path, min_weight = tsp_brute_force(graph)\n",
        "\n",
        "print(\"Path with least weight:\", min_path)\n",
        "print(\"Minimum path weight:\", min_weight)\n"
      ],
      "metadata": {
        "id": "vrB-prFpEly6",
        "colab": {
          "base_uri": "https://localhost:8080/"
        },
        "outputId": "9ac1193d-dd32-45ce-b2d2-d4c4d012ed6d"
      },
      "execution_count": null,
      "outputs": [
        {
          "output_type": "stream",
          "name": "stdout",
          "text": [
            "Path with least weight: [0, 1, 2, 3]\n",
            "Minimum path weight: 95\n"
          ]
        }
      ]
    },
    {
      "cell_type": "markdown",
      "source": [
        "## Analysis\n",
        "\n",
        "### Function calculate_path_weight:\n",
        "\n",
        "Input size: The graph contains n vertices, and a path is a list of n elements representing the order of the vertices => T(n)\n",
        "\n",
        "Basic Operation: addition in line 13\n",
        "\n",
        "Worse case: path containing n vertices\n",
        "\n",
        "T(n) = 1 + 1 + ... + 1 = n\n",
        "\n",
        "### Function generate_permutations:\n",
        "\n",
        "Input size: n is the number of vertices (or the number of elements in the array arr) => T(n)\n",
        "\n",
        "Basic Operation:\n",
        "\n",
        "Worse case: The function will generate all n! permutations.\n",
        "\n",
        "T(n) = n! + n! + ... + n! = n*n!\n",
        "\n",
        "### Function tsp_brute_force:\n",
        "\n",
        "Input size: Graph with n vertices => T(n)\n",
        "\n",
        "Basic Operation: Consider all possible permutations and weight each permutation.\n",
        "\n",
        "Worse case: T(n) = n! + n! + ... + n! = n*n!\n",
        "\n",
        "So T(n) $∈ Θ(n*n!)$"
      ],
      "metadata": {
        "id": "7u7neXGMiQBz"
      }
    },
    {
      "cell_type": "markdown",
      "source": [
        "## g. \tKnapsack Problem"
      ],
      "metadata": {
        "id": "jSeQ24be45TJ"
      }
    },
    {
      "cell_type": "code",
      "source": [
        "def knapsack_brute_force(W, V, K):\n",
        "    \"\"\"\n",
        "    Solves the Knapsack problem using brute force without recursion, bitmask, or libraries.\n",
        "\n",
        "    Input:\n",
        "    - W: List of weights of the items, where W[i] is the weight of item i.\n",
        "    - V: List of values of the items, where V[i] is the value of item i.\n",
        "    - K: The maximum capacity of the knapsack.\n",
        "\n",
        "    Output:\n",
        "    - max_value: The maximum value obtained by selecting a subset of items.\n",
        "    - best_subset: The subset of items that gives the maximum value and satisfies the weight constraint.\n",
        "    \"\"\"\n",
        "    n = len(W)\n",
        "    max_value = 0\n",
        "    best_subset = []\n",
        "\n",
        "    for subset_size in range(n + 1):\n",
        "        subsets = generate_combinations(n, subset_size)\n",
        "\n",
        "        for subset in subsets:\n",
        "            total_weight = sum(W[i] for i in subset)\n",
        "            total_value = sum(V[i] for i in subset)\n",
        "\n",
        "            if total_weight <= K and total_value > max_value:\n",
        "                max_value = total_value\n",
        "                best_subset = subset[:]\n",
        "\n",
        "    return max_value, best_subset\n",
        "\n",
        "\n",
        "def generate_combinations(n, subset_size):\n",
        "    \"\"\"\n",
        "    Generate all possible combinations of a given size.\n",
        "\n",
        "    Input:\n",
        "    - n: The number of items.\n",
        "    - subset_size: The size of the subset.\n",
        "\n",
        "    Output:\n",
        "    - A list of combinations, where each combination is a list of indices.\n",
        "    \"\"\"\n",
        "    combinations = []\n",
        "\n",
        "    indices = list(range(subset_size))\n",
        "\n",
        "    while indices:\n",
        "        combinations.append(indices[:])\n",
        "\n",
        "        for i in reversed(range(subset_size)):\n",
        "            if indices[i] != i + n - subset_size:\n",
        "                break\n",
        "        else:\n",
        "            break\n",
        "\n",
        "        indices[i] += 1\n",
        "        for j in range(i + 1, subset_size):\n",
        "            indices[j] = indices[j - 1] + 1\n",
        "\n",
        "    return combinations\n",
        "\n",
        "\n",
        "# Ví dụ sử dụng\n",
        "W = [10, 20, 30]\n",
        "V = [60, 100, 120]\n",
        "K = 50\n",
        "\n",
        "max_value, best_subset = knapsack_brute_force(W, V, K)\n",
        "\n",
        "print(\"Maximum value that can be obtained:\", max_value)\n",
        "print(\"Best subset of items (indices):\", best_subset)\n"
      ],
      "metadata": {
        "id": "OJJW-XM_Em0S",
        "colab": {
          "base_uri": "https://localhost:8080/"
        },
        "outputId": "064fb66e-7ee3-4b81-dbcb-a699a6437e30"
      },
      "execution_count": 2,
      "outputs": [
        {
          "output_type": "stream",
          "name": "stdout",
          "text": [
            "Maximum value that can be obtained: 220\n",
            "Best subset of items (indices): [1, 2]\n"
          ]
        }
      ]
    },
    {
      "cell_type": "markdown",
      "source": [
        "## Analysis\n",
        "\n",
        "### Fucntion generate_combinations\n",
        "\n",
        "Input size: n => T(n)\n",
        "\n",
        "Basic Operation: Addition in line 12 of this function\n",
        "\n",
        "Worse case: iterate over all possible subsets of n elements\n",
        "\n",
        "T(n) =  $2^{n}$\n",
        "\n",
        "### Function knapsack_brute_force\n",
        "Input size: The graph contains n vertices, and a path is a list of n elements representing the order of the vertices => T(n)\n",
        "\n",
        "Basic Operation: Addition is performed when calculating the weight and value of each subset.\n",
        "\n",
        "Worse case: iterate over all possible subsets of n elements\n",
        "\n",
        "T(n) = $2^n + 2^n + ... + 2^n = $ $T(n*2^{n})$\n",
        "\n",
        "So T(n) $∈ Θ(n*2^{n})$"
      ],
      "metadata": {
        "id": "fUtuW70uEnCK"
      }
    }
  ]
}