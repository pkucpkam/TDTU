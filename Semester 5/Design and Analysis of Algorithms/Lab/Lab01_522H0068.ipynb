{
  "nbformat": 4,
  "nbformat_minor": 0,
  "metadata": {
    "colab": {
      "provenance": [],
      "collapsed_sections": [
        "SDVDLZN7x5Nh"
      ]
    },
    "kernelspec": {
      "name": "python3",
      "display_name": "Python 3"
    },
    "language_info": {
      "name": "python"
    }
  },
  "cells": [
    {
      "cell_type": "markdown",
      "source": [
        "# Exercise 1"
      ],
      "metadata": {
        "id": "2iGt9Zxhuv9y"
      }
    },
    {
      "cell_type": "markdown",
      "source": [
        "## a"
      ],
      "metadata": {
        "id": "SDVDLZN7x5Nh"
      }
    },
    {
      "cell_type": "markdown",
      "source": [
        "**Analysis:**\n",
        "\n",
        "1) input size: n\n",
        "\n",
        "2) basic operation: comparison on line 3\n",
        "\n",
        "3) worst cases: the function return true, or false at the end of the loop\n",
        "\n",
        "4) Fix I, count j\n",
        "\n",
        "I = 0, j = 1 to n-1: n-1 times\n",
        "\n",
        "I = 1, j = 2 to n-1: n-2 times\n",
        "\n",
        "….\n",
        "\n",
        "I = n-2, j = n-1..n-1: 1 time\n",
        "\n",
        "T(n) = 1 + 2 +…+ n-2 + n-1 ~= n(n-1)/2\n",
        "\n",
        "T(n) belongs to Theta(n^2)"
      ],
      "metadata": {
        "id": "c9pxlWG4yp4g"
      }
    },
    {
      "cell_type": "markdown",
      "source": [
        "## b"
      ],
      "metadata": {
        "id": "aINDIbVA0n_I"
      }
    },
    {
      "cell_type": "markdown",
      "source": [
        "\n",
        "**Analysis:**\n",
        "\n",
        "1) Input size: n\n",
        "\n",
        "2) Basic operation: comparison on line 7\n",
        "\n",
        "3) Worst cases: the function return the index and value of the largest element of the array as the last element\n",
        "\n",
        "4) Fix I, count j\n",
        "\n",
        "I = 0, j = 1 to n-1: n-1 times\n",
        "\n",
        "I = 1, j = 2 to n-1: n-2 times\n",
        "\n",
        "….\n",
        "\n",
        "I = n-2, j = n-1..n-1: 1 time\n",
        "\n",
        "T(n) = 1 + 2 +…+ n-2 + n-1 ~= n(n-1)/2\n",
        "\n",
        "T(n) belongs to Theta(n^2)"
      ],
      "metadata": {
        "id": "ztOvJ8v70n_f"
      }
    },
    {
      "cell_type": "markdown",
      "source": [
        "## c"
      ],
      "metadata": {
        "id": "J7sfX43n2L0D"
      }
    },
    {
      "cell_type": "markdown",
      "source": [
        "\n",
        "**Analysis:**\n",
        "\n",
        "1) Input size: n\n",
        "\n",
        "2) Basic operation: addition on line 4\n",
        "\n",
        "3) Worst cases: The function will execute at most when i decreases from n to 1\n",
        "\n",
        "4) Fix I, count j\n",
        "\n",
        "i = n, j = 1 to n: n times\n",
        "\n",
        "i = n/3, j = 1 to n: n times\n",
        "\n",
        "i = n/9, j = 1 to n: n times\n",
        "\n",
        "….\n",
        "\n",
        "i = n/(3^(k-1)), j = 1 to n: n times\n",
        "\n",
        "\n",
        "$T(n) = n + n +…+ n ~= n*k with k = log3(n)$\n",
        "$                    ~=n*log3(n)$\n",
        "\n",
        "$T(n)$ belongs to Theta $(n*logn)$"
      ],
      "metadata": {
        "id": "RL5NlyoL2L0F"
      }
    },
    {
      "cell_type": "markdown",
      "source": [
        "## d"
      ],
      "metadata": {
        "id": "ZxbusEkUDhec"
      }
    },
    {
      "cell_type": "markdown",
      "source": [
        "\n",
        "**Analysis:**\n",
        "\n",
        "1) Input size: n\n",
        "\n",
        "2) Basic operation: comparison on line 7\n",
        "\n",
        "3) Worst cases: the function return true, or false at the end of the loop\n",
        "\n",
        "4) Fix I, count j\n",
        "\n",
        "i = 0, j = 1 to n-1: n-1 times\n",
        "\n",
        "i = 1, j = 2 to n-2: n-2 times\n",
        "\n",
        "i = 2, j = 3 to n-3: n-3 times\n",
        "\n",
        "….\n",
        "\n",
        "i = n-2, j = n-1 to n-1: 1 times\n",
        "\n",
        "\n",
        "$T(n) = (n-1) + (n-2) + (n-3) ... + 1 = n*(n-1)/2$\n",
        "\n",
        "$T(n)$ belongs to Theta $(n^2)$"
      ],
      "metadata": {
        "id": "DRz-lMEY_juV"
      }
    },
    {
      "cell_type": "markdown",
      "source": [
        "## e"
      ],
      "metadata": {
        "id": "MIvNcaiFDllb"
      }
    },
    {
      "cell_type": "markdown",
      "source": [
        "\n",
        "**Analysis:**\n",
        "\n",
        "1) Input size: k\n",
        "\n",
        "2) Basic operation: comparison on line 4\n",
        "\n",
        "3) Worst cases: The function return even when i reach to k -1\n",
        "\n",
        "4) Fix i,\n",
        "i = 1, i < k : k - 1 times\n",
        "\n",
        "$T(k) = 1 + 1 + ... + 1 = k - 1$\n",
        "\n",
        "$T(k)$ belongs to Theta $(k)$"
      ],
      "metadata": {
        "id": "4Gszkdg1Dllc"
      }
    },
    {
      "cell_type": "markdown",
      "source": [
        "## f"
      ],
      "metadata": {
        "id": "V9XlT3zpHaX5"
      }
    },
    {
      "cell_type": "markdown",
      "source": [
        "\n",
        "**Analysis:**\n",
        "\n",
        "1) Input size: k\n",
        "\n",
        "2) Basic operation: comparison on line 4\n",
        "\n",
        "3) Worst cases: The function return even when i reach to k - 1\n",
        "\n",
        "4) Fix i, count i\n",
        "i = 1, i < k : k - 1 times\n",
        "\n",
        "$T(k) = 1 + 1 + ... + 1 = k - 1$\n",
        "\n",
        "$T(k)$ belongs to Theta $(k)$"
      ],
      "metadata": {
        "id": "aM44SJpPHaYO"
      }
    },
    {
      "cell_type": "markdown",
      "source": [
        "## g"
      ],
      "metadata": {
        "id": "lhbOq-skHiwp"
      }
    },
    {
      "cell_type": "markdown",
      "source": [
        "\n",
        "**Analysis:**\n",
        "\n",
        "1) Input size: n - number of elements in array A\n",
        "\n",
        "2) Basic operation: comparison on line 6\n",
        "\n",
        "3) Worst cases: The array has been sorted descendingly.\n",
        "\n",
        "4) Fix i, count i\n",
        "i = 1 to n : n -1 times\n",
        "\n",
        "$T(n) = 1 + 1 + ... + 1 = n - 1$\n",
        "\n",
        "$T(n)$ belongs to Theta $(n)$"
      ],
      "metadata": {
        "id": "fGEEffD7Hiwq"
      }
    },
    {
      "cell_type": "markdown",
      "source": [
        "## h"
      ],
      "metadata": {
        "id": "94eGvhS4KNq4"
      }
    },
    {
      "cell_type": "markdown",
      "source": [
        "**Analysis:**\n",
        "\n",
        "1) input size: n\n",
        "\n",
        "2) basic operation: comparison on line 3\n",
        "\n",
        "3) worst cases: the function return true, or false at the end of the loop\n",
        "\n",
        "4) Fix I, count j\n",
        "\n",
        "I = 0, j = 1 to n-1: n-1 times\n",
        "\n",
        "I = 1, j = 2 to n-1: n-2 times\n",
        "\n",
        "….\n",
        "\n",
        "I = n-2, j = n-1..n-1: 1 time\n",
        "\n",
        "T(n) = 1 + 2 +…+ n-2 + n-1 ~= n(n-1)/2\n",
        "\n",
        "T(n) belongs to Theta(n^2)"
      ],
      "metadata": {
        "id": "FeFKW5cqKNrJ"
      }
    },
    {
      "cell_type": "markdown",
      "source": [
        "## i"
      ],
      "metadata": {
        "id": "GQxDpWshwWv9"
      }
    },
    {
      "cell_type": "markdown",
      "source": [
        "**Analysis:**\n",
        "\n",
        "1) input size: n\n",
        "\n",
        "2) basic operation: comparison on line 5\n",
        "\n",
        "3) worst cases: The array has been sorted descendingly.\n",
        "\n",
        "4) Fix I, count j\n",
        "\n",
        "I = 1, j = 0 to 0: 1 times\n",
        "\n",
        "I = 2, j = 1 to 0: 2 times\n",
        "\n",
        "….\n",
        "\n",
        "I = n-1, j = n-2 to 0: n-1 times\n",
        "\n",
        "T(n) = 1 + 2 +…+ n-2 + n-1 ~= n(n-1)/2\n",
        "\n",
        "T(n) belongs to Theta(n^2)"
      ],
      "metadata": {
        "id": "moVUJAt2wWwC"
      }
    },
    {
      "cell_type": "markdown",
      "source": [
        "# Exercise 2"
      ],
      "metadata": {
        "id": "OVoy1l158M5-"
      }
    },
    {
      "cell_type": "markdown",
      "source": [
        "## a"
      ],
      "metadata": {
        "id": "hGWKKp4R8yNl"
      }
    },
    {
      "cell_type": "markdown",
      "source": [
        "$32n^2+17n+32∈O(n)$\n",
        "\n",
        "The function $f(n)$ belongs to $O(n)$ if there exist constants $c > 0$ and $n_0 \\geq 0$ such that:\n",
        "\n",
        "$f(n) \\leq c*g(n)$ for all $n \\geq n_0$\n",
        "\n",
        "We have: $f(n) = 32n^2+17n+32$  and $g(n) = n$\n",
        "\n",
        "Consider the ratio:\n",
        "\n",
        " $ \\frac{f(n)}{g(n)} = \\frac{32n^2 + 17n + 32}{n}$\n",
        "\n",
        "$ \\lim_{x \\to ∞} \\frac{f(n)}{g(n)} = \\lim_{x \\to ∞} \\frac{32n^2 + 17n + 32}{n} = ∞ $\n",
        "\n",
        "This means $ \\frac{f(n)}{g(n)}$ is not bounded by some constant when n is large enough.\n",
        "\n",
        "Conclusion: $32n^2+17n+32∈O(n)$ is false\n",
        "\n"
      ],
      "metadata": {
        "id": "CwTIuXxJDBFX"
      }
    },
    {
      "cell_type": "markdown",
      "source": [
        "## b"
      ],
      "metadata": {
        "id": "Ao8XQnqkCUDs"
      }
    },
    {
      "cell_type": "markdown",
      "source": [
        "$\t32n^2+17n+32∈O(n^3 )$\n",
        "\n",
        "The function $f(n)$ belongs to $O(n)$ if there exist constants $c > 0$ and $n_0 \\geq 0$ such that:\n",
        "\n",
        "$f(n) \\leq c*g(n)$ for all $n \\geq n_0$\n",
        "\n",
        "We have: $f(n) = 32n^2+17n+32$  and $g(n) = n^3$\n",
        "\n",
        "Consider the ratio:\n",
        "\n",
        " $ \\frac{f(n)}{g(n)} = \\frac{32n^2 + 17n + 32}{n^3}$\n",
        "\n",
        "$ \\lim_{x \\to ∞} \\frac{f(n)}{g(n)} = \\lim_{x \\to ∞} \\frac{32n^2 + 17n + 32}{n^3} = 0 $\n",
        "\n",
        "This means $ \\frac{f(n)}{g(n)}$ bounded by some constant when\n",
        "n is large enough.\n",
        "\n",
        "Conclusion: $32n^2+17n+32∈O(n^3)$ is true\n",
        "\n"
      ],
      "metadata": {
        "id": "HhLRlySZf8lf"
      }
    },
    {
      "cell_type": "markdown",
      "source": [
        "## c"
      ],
      "metadata": {
        "id": "kd0mQO-yCUI5"
      }
    },
    {
      "cell_type": "markdown",
      "source": [
        "$\t32n^2+17n+32∈Ω(n^3 )$\n",
        "\n",
        "The function $f(n)$ belongs to $O(n)$ if there exist constants $c > 0$ and $n_0 \\geq 0$ such that:\n",
        "\n",
        "$f(n) \\leq c*g(n)$ for all $n \\geq n_0$\n",
        "\n",
        "We have: $f(n) = 32n^2+17n+32$  and $g(n) = n^3$\n",
        "\n",
        "Consider the ratio:\n",
        "\n",
        " $ \\frac{f(n)}{g(n)} = \\frac{32n^2 + 17n + 32}{n^3}$\n",
        "\n",
        "$ \\lim_{x \\to ∞} \\frac{f(n)}{g(n)} = \\lim_{x \\to ∞} \\frac{32n^2 + 17n + 32}{n^3} = 0 $\n",
        "\n",
        "This means $ \\frac{f(n)}{g(n)}$ bounded by some constant when\n",
        "n is large enough.\n",
        "\n",
        "Conclusion: $32n^2+17n+32∈O(n^3)$ is true"
      ],
      "metadata": {
        "id": "oReALogif_AO"
      }
    },
    {
      "cell_type": "markdown",
      "source": [
        "## d"
      ],
      "metadata": {
        "id": "kyKhKT-1CUMp"
      }
    },
    {
      "cell_type": "markdown",
      "source": [
        "$32n^2+17n+32∈O(n)$\n",
        "\n",
        "The function $f(n)$ belongs to $O(n)$ if there exist constants $c > 0$ and $n_0 \\geq 0$ such that:\n",
        "\n",
        "$f(n) \\leq c*g(n)$ for all $n \\geq n_0$\n",
        "\n",
        "We have: $f(n) = 32n^2+17n+32$  and $g(n) = n$\n",
        "\n",
        "Consider the ratio:\n",
        "\n",
        " $ \\frac{f(n)}{g(n)} = \\frac{32n^2 + 17n + 32}{n}$\n",
        "\n",
        "$ \\lim_{x \\to ∞} \\frac{f(n)}{g(n)} = \\lim_{x \\to ∞} \\frac{32n^2 + 17n + 32}{n} = ∞ $\n",
        "\n",
        "This means $ \\frac{f(n)}{g(n)}$ is not bounded by some constant when n is large enough.\n",
        "\n",
        "Conclusion: $32n^2+17n+32∈O(n)$ is false\n",
        "\n"
      ],
      "metadata": {
        "id": "UAmlMma9gBYO"
      }
    },
    {
      "cell_type": "markdown",
      "source": [
        "## e"
      ],
      "metadata": {
        "id": "Qv65Ib7wCUPp"
      }
    },
    {
      "cell_type": "markdown",
      "source": [
        "$\t2^{(n+1)}∈O(2^n )?$\n",
        "\n",
        "The function $f(n)$ belongs to $O(n)$ if there exist constants $c > 0$ and $n_0 \\geq 0$ such that:\n",
        "\n",
        "$f(n) \\leq c*g(n)$ for all $n \\geq n_0$\n",
        "\n",
        "We have: $f(n) = 2^{(n+1)}$  and $g(n) = 2^n$\n",
        "\n",
        "Consider the ratio:\n",
        "\n",
        " $ \\frac{f(n)}{g(n)} = \\frac{2^{(n+1)}}{2^n}$\n",
        "\n",
        "$ \\lim_{x \\to ∞} \\frac{f(n)}{g(n)} = \\lim_{x \\to ∞} \\frac{2^{(n+1)}}{2^n} = ∞ $\n",
        "\n",
        "This means $ \\frac{f(n)}{g(n)}$ is not bounded by some constant when n is large enough.\n",
        "\n",
        "Conclusion: $2^{(n+1)}∈O(2^n)$ is false\n",
        "\n"
      ],
      "metadata": {
        "id": "Ap7-UC-RgFwv"
      }
    },
    {
      "cell_type": "markdown",
      "source": [
        "## f"
      ],
      "metadata": {
        "id": "e0GDuxx4CUSJ"
      }
    },
    {
      "cell_type": "markdown",
      "source": [
        "$\t2^{2n}=2^n 2^n∈O(2^n )?$\n",
        "\n",
        "The function $f(n)$ belongs to $O(n)$ if there exist constants $c > 0$ and $n_0 \\geq 0$ such that:\n",
        "\n",
        "$f(n) \\leq c*g(n)$ for all $n \\geq n_0$\n",
        "\n",
        "We have: $f(n) = 2^(n+1)$  and $g(n) = 2^n$\n",
        "\n",
        "Let's try a specific value for n to check if we can satisfy the inequality $\t2^{2n}\\leq c*2^n$\n",
        "\n",
        "Choose n = 5:\n",
        "\n",
        "$\t2^{2n} = 2^{10}= 1024$\n",
        "\n",
        "$\tc*2^n = c*2^{5} = c*32 $\n",
        "\n",
        "Check whether: $1024 \\leq c*32 $\n",
        "\n",
        "For this inequality to hold, c must be at least:\n",
        "\n",
        "$c \\geq \\frac{1024}{32} = 32$\n",
        "\n",
        "Choose n = 10:\n",
        "\n",
        "$\t2^{2n} = 2^{20}=1048576$\n",
        "\n",
        "$\tc*2^n = c*2^{10} = c*1024 $\n",
        "\n",
        "Check whether: $1048576 \\leq c*1024 $\n",
        "\n",
        "For this inequality to hold, c must be at least:\n",
        "\n",
        "$c \\geq \\frac{1048576}{1024} = 1024$\n",
        "\n",
        "As n grows, the value of c required becomes unreasonably large, which violates the idea of a fixed constant c\n",
        "\n",
        "Conclusion: $2^(n+1)∈O(2^n)$ is false\n"
      ],
      "metadata": {
        "id": "cLt2_ROngIV-"
      }
    },
    {
      "cell_type": "markdown",
      "source": [
        "## g"
      ],
      "metadata": {
        "id": "W0w42rP7Ci1x"
      }
    },
    {
      "cell_type": "markdown",
      "source": [
        "If $f(n)∈O(g(n))$ and $g(n)∈O(f(n))$ then $f(n)=g(n)$\n",
        "\n",
        "The function $f(n)$ belongs to $O(g(n))$ if there exist constants $c_1 > 0$ and $n \\geq n_0$ such that:\n",
        "\n",
        "$f(n) \\leq c_1*g(n)$ for all $n \\geq n_0$\n",
        "\n",
        "The function $g(n)$ belongs to $O(f(n))$ if there exist constants $c_2 > 0$ and $n \\geq n_1$ such that:\n",
        "\n",
        "$g(n) \\leq c_2*g(n)$ for all $n \\geq n_1$\n",
        "\n",
        "If both $f(n) \\in c_1*g(n)$ and $g(n) \\in c2_f(n) $ for $n \\geq max(n_0,n_1)$\n",
        "\n",
        "This indicates that both functions are bounded by constant multiples of each other, meaning they grow at roughly the same rate. In this case, we say that\n",
        "$f(n)=Θ(g(n))$, which means $f(n)$ and $g(n)$ have asymptotically the same growth rate.\n",
        "\n",
        "Conclusion:\n",
        "From $f(n)∈O(g(n))$ and $g(n)∈O(f(n))$, we can conclude that:\n",
        "$f(n)=Θ(g(n))$"
      ],
      "metadata": {
        "id": "ZBd3gB7vgLCG"
      }
    },
    {
      "cell_type": "markdown",
      "source": [
        "# Exercise 3"
      ],
      "metadata": {
        "id": "94h3Mf_lYI4J"
      }
    },
    {
      "cell_type": "markdown",
      "source": [
        "## a"
      ],
      "metadata": {
        "id": "CgV2S5negUL5"
      }
    },
    {
      "cell_type": "markdown",
      "source": [
        "Because $f(n) \\in $O(g(n))$\n",
        "\n",
        "Infer: $f(n) \\leq c*g(n)$ for large n then by properties of logarithms, we have:\n",
        "\n",
        "$\\log_2(f(n)) \\leq \\log_2(c \\cdot g(n)) = \\log_2(c) + \\log_2(g(n))$\n",
        "\n",
        "which still results in: $\\log_2(f(n)) \\in O(\\log_2(g(n)))\n",
        "$\n",
        "\n",
        "Conclusion: True"
      ],
      "metadata": {
        "id": "AcDvacFFgYK_"
      }
    },
    {
      "cell_type": "markdown",
      "source": [
        "## b"
      ],
      "metadata": {
        "id": "BdKCyFkcinpN"
      }
    },
    {
      "cell_type": "markdown",
      "source": [
        "If $f(n) \\in $O(g(n))$\n",
        "\n",
        "Then: $f(n)^2 \\leq c^2 \\cdot g(n)^2$ for large n\n",
        "\n",
        "If $f(n) = n$ and $g(n) = 2n$ then $f(n) \\in O(g(n))$, but $2^n$ grows exponentially slower than $2^{2n}$\n",
        "\n",
        "So: $2^n \\notin O(2^{2n})$\n",
        "\n",
        "Conclusion: False\n"
      ],
      "metadata": {
        "id": "3WjVIqUainpT"
      }
    },
    {
      "cell_type": "markdown",
      "source": [
        "## c"
      ],
      "metadata": {
        "id": "fmWldaxGinvg"
      }
    },
    {
      "cell_type": "markdown",
      "source": [
        "Because $f(n) \\in $O(g(n))$\n",
        "\n",
        "Infer: $f(n) \\leq c*g(n)$ for large n hen squaring both sides gives:\n",
        "\n",
        "$f(n)^2 \\leq c^2 \\cdot g(n)^2$\n",
        "\n",
        "which still results in: $f(n)^2 \\in O(g(n)^2) $\n",
        "\n",
        "Conclusion: True\n"
      ],
      "metadata": {
        "id": "bxIIaFQ7invg"
      }
    },
    {
      "cell_type": "markdown",
      "source": [
        "# Exercise 4"
      ],
      "metadata": {
        "id": "XZh9yT40oAqW"
      }
    },
    {
      "cell_type": "markdown",
      "source": [
        "### Compare $f_2(n)$ and $f_3(n)$\n",
        "\n",
        "$ \\lim_{n \\to \\infty} \\frac{\\sqrt{2n}}{n + 10} = \\lim_{n \\to \\infty} \\frac{\\sqrt{2}}{\\sqrt{n} + \\frac{10}{\\sqrt{n}}} = 0$\n",
        "\n",
        "Thus, $f_2(n)$ grows slower than $f_3(n)$\n",
        "\n",
        "### Compare $f_2(n)$ and $f_6(n)$\n",
        "$ \\lim_{n \\to \\infty} \\frac{\\sqrt{2n}}{n^2 \\log n} = \\lim_{n \\to \\infty} \\frac{\\sqrt{2}}{n^{3/2} \\log n} = 0$\n",
        "\n",
        "Thus, $f_2(n)$ grows slower than $f_6(n)$.\n",
        "\n",
        "### Compare $f_3(n) $ and $f_6(n) $\n",
        "$ \\lim_{n \\to \\infty} \\frac{n + 10}{n^2 \\log n} = \\lim_{n \\to \\infty} \\frac{1 + \\frac{10}{n}}{2n \\log n} = 0$\n",
        "\n",
        "Thus, $f_3(n) $ grows slower than $f_6(n) $.\n",
        "\n",
        "### Compare $f_6(n) $ and $f_1(n) $\n",
        "$ \\lim_{n \\to \\infty} \\frac{n^2 \\log n}{n^{2.5}} = \\lim_{n \\to \\infty} \\frac{\\log n}{n^{0.5}} = 0$\n",
        "\n",
        "Thus, $f_6(n) $ grows slower than $f_1(n) $.\n",
        "\n",
        "### Compare $f_1(n) $ and $f_4(n) $\n",
        "$ \\lim_{n \\to \\infty} \\frac{n^{2.5}}{10^n} = 0$\n",
        "\n",
        "Thus, $f_1(n) $ grows slower than $f_4(n) $.\n",
        "\n",
        "### Compare $f_4(n) $ and $f_5(n) $\n",
        "$ \\lim_{n \\to \\infty} \\frac{10^n}{100^n} = \\lim_{n \\to \\infty} \\left( \\frac{10}{100} \\right)^n = \\lim_{n \\to \\infty} \\left( \\frac{1}{10} \\right)^n = 0 $\n",
        "\n",
        "Thus, $f_4(n) $ grows slower than $f_5(n) $.\n",
        "\n",
        "### Conclusion\n",
        "Based on the limits calculated, we can arrange the functions in ascending order of growth as follows:\n",
        "\n",
        "$f_2(n) \\text{ ( } \\sqrt{2n} \\text{ ) } < f_3(n) \\text{ ( } n + 10 \\text{ ) } < f_6(n) \\text{ ( } n^2 \\log n \\text{ ) } < f_1(n) \\text{ ( } n^{2.5} \\text{ ) } < f_4(n) \\text{ ( } 10^n \\text{ ) } < f_5(n) \\text{ ( } 100^n \\text{ )}$"
      ],
      "metadata": {
        "id": "ue6vjmt-oEKW"
      }
    },
    {
      "cell_type": "markdown",
      "source": [
        "# Exercise 5"
      ],
      "metadata": {
        "id": "QWYaOd8VprNm"
      }
    },
    {
      "cell_type": "markdown",
      "source": [
        "### Compare $ g(n) $ and $ g_3(n) $\n",
        "$\n",
        "\\lim_{n \\to \\infty} \\frac{2^{\\sqrt{\\log n}}}{n^{4/3}}\n",
        "$\n",
        "\n",
        "Using the fact that $ 2^{\\sqrt{\\log n}} $ grows slower than any polynomial, we conclude that:\n",
        "\n",
        "$\n",
        "g(n) \\text{ grows slower than } g_3(n).\n",
        "$\n",
        "\n",
        "### Compare $ g_3(n) $ and $ g_4(n) $\n",
        "$\n",
        "\\lim_{n \\to \\infty} \\frac{n^{4/3}}{n (\\log n)^3} = \\lim_{n \\to \\infty} \\frac{n^{1/3}}{(\\log n)^3} = \\infty\n",
        "$\n",
        "\n",
        "Thus, $ g_4(n) $ grows slower than $ g_3(n) $.\n",
        "\n",
        "### Compare $ g_4(n) $ and $ g_5(n) $\n",
        "$\n",
        "\\lim_{n \\to \\infty} \\frac{n (\\log n)^3}{n^{\\log n}} = \\lim_{n \\to \\infty} \\frac{(\\log n)^3}{n^{\\log n - 1}} = 0\n",
        "$\n",
        "\n",
        "Thus, $ g_4(n) $ grows slower than $ g_5(n) $.\n",
        "\n",
        "### Compare $ g_5(n) $ and $ g_2(n) $\n",
        "$\n",
        "\\lim_{n \\to \\infty} \\frac{n^{\\log n}}{2^n}\n",
        "$\n",
        "\n",
        "Using $ n^{\\log n} $ grows slower than $ 2^n $:\n",
        "\n",
        "$\n",
        "g_5(n) \\text{ grows slower than } g_2(n).\n",
        "$\n",
        "\n",
        "### Compare $ g_2(n) $ and $ g_6(n) $\n",
        "$\n",
        "\\lim_{n \\to \\infty} \\frac{2^n}{2^{2^n}} = 0\n",
        "$\n",
        "\n",
        "Thus, $ g_2(n) $ grows slower than $ g_6(n) $.\n",
        "\n",
        "### Conclusion\n",
        "Based on the limits calculated, we can arrange the functions in ascending order of growth as follows:\n",
        "$\n",
        "g(n) \\text{ ( } 2^{\\sqrt{\\log n}} \\text{ ) } < g_3(n) \\text{ ( } n^{4/3} \\text{ ) } < g_4(n) \\text{ ( } n (\\log n)^3 \\text{ ) } < g_5(n) \\text{ ( } n^{\\log n} \\text{ ) } < g_2(n) \\text{ ( } 2^n \\text{ ) } < g_6(n) \\text{ ( } 2^{2^n} \\text{ )}\n",
        "$"
      ],
      "metadata": {
        "id": "QzpNBE8drOI3"
      }
    }
  ]
}