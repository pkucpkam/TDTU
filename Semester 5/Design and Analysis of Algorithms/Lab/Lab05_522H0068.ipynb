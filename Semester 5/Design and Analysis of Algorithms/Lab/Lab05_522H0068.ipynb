{
  "nbformat": 4,
  "nbformat_minor": 0,
  "metadata": {
    "colab": {
      "provenance": [],
      "collapsed_sections": [
        "ytJMjHOKAYp9"
      ],
      "toc_visible": true
    },
    "kernelspec": {
      "name": "python3",
      "display_name": "Python 3"
    },
    "language_info": {
      "name": "python"
    }
  },
  "cells": [
    {
      "cell_type": "markdown",
      "source": [
        "# Warm up"
      ],
      "metadata": {
        "id": "wqsF0WWX_P_6"
      }
    },
    {
      "cell_type": "markdown",
      "source": [
        "## 1.\tRecursive insertion sort."
      ],
      "metadata": {
        "id": "ytJMjHOKAYp9"
      }
    },
    {
      "cell_type": "code",
      "source": [
        "\n",
        "def recursive_insertion_sort(arr, n=None):\n",
        "  \"\"\"\n",
        "    function sorts a given array by insertion sort\n",
        "    Input: A (array): sequence of n orderable elements\n",
        "    Output: Array A sorted in nondescreasing order\n",
        "  \"\"\"\n",
        "  if n is None:\n",
        "      n = len(arr)\n",
        "  if n <= 1:\n",
        "      return\n",
        "  recursive_insertion_sort(arr, n - 1)\n",
        "  last = arr[n - 1]\n",
        "  j = n - 2\n",
        "  while j >= 0 and arr[j] > last:\n",
        "      arr[j + 1] = arr[j]\n",
        "      j -= 1\n",
        "  arr[j + 1] = last\n",
        "\n",
        "#Test\n",
        "arr = [12, 11, 13, 5, 6]\n",
        "print(\"Array: \",arr)\n",
        "recursive_insertion_sort(arr)\n",
        "print(\"Sorted array:\", arr)"
      ],
      "metadata": {
        "colab": {
          "base_uri": "https://localhost:8080/"
        },
        "id": "34WCFOkkAd2u",
        "outputId": "5483a2e9-3a87-48a6-a233-712e924c187f"
      },
      "execution_count": null,
      "outputs": [
        {
          "output_type": "stream",
          "name": "stdout",
          "text": [
            "Array:  [12, 11, 13, 5, 6]\n",
            "Sorted array: [5, 6, 11, 12, 13]\n"
          ]
        }
      ]
    },
    {
      "cell_type": "markdown",
      "source": [
        "### Analysis\n",
        "\n",
        "1 Input size: n - number of elements of array A => T(n)\n",
        "\n",
        "2 Basic operation: comparison on line 8\n",
        "\n",
        "3 Worst case: Input A is sorted in decreasing order\n",
        "\n",
        "4 T(n) = 1 + 2 + ... + (n-2) + (n-1) = n*(n-1)/2\n",
        "\n",
        "Thus: T(n) $∈ Θ(n^2)$\n"
      ],
      "metadata": {
        "id": "TGcZb2YcAirG"
      }
    },
    {
      "cell_type": "markdown",
      "source": [
        "## 2.\tRecursive Exponentiation by squaring"
      ],
      "metadata": {
        "id": "6-YfZ8HvDtaf"
      }
    },
    {
      "cell_type": "code",
      "source": [
        "\n",
        "def recursive_exp_squaring(x, n):\n",
        "  \"\"\"\n",
        "    function compute exponentiation by squaring\n",
        "    Input: x, n - two integers\n",
        "    Output: nth power of x\n",
        "  \"\"\"\n",
        "  if n == 0:\n",
        "      return 1\n",
        "  elif n % 2 == 0:\n",
        "      return recursive_exp_squaring(x * x, n // 2)\n",
        "  else:\n",
        "      return x * recursive_exp_squaring(x * x, (n - 1) // 2)\n",
        "\n",
        "#Test\n",
        "x = 2\n",
        "n = 10\n",
        "result = recursive_exp_squaring(x, n)\n",
        "print(f\"{x}^{n} = {result}\")"
      ],
      "metadata": {
        "colab": {
          "base_uri": "https://localhost:8080/"
        },
        "outputId": "d41e65f3-231c-4fe3-82a1-5eebff44d9dc",
        "id": "Q6GNzCCIDtar"
      },
      "execution_count": null,
      "outputs": [
        {
          "output_type": "stream",
          "name": "stdout",
          "text": [
            "2^10 = 1024\n"
          ]
        }
      ]
    },
    {
      "cell_type": "markdown",
      "source": [
        "### Analysis\n",
        "\n",
        "1 Input size: n => T(n)\n",
        "\n",
        "2 Basic operation: comparison on line 1\n",
        "\n",
        "3 Worst case: Continuous exponents are odd numbers.\n",
        "\n",
        "4 Using master theorem:\n",
        "\n",
        "T(n) = T(n/2) + c\n",
        "\n",
        "a = 1, b = 2, f(n) = c and $f(n)∈Θ(n^k)\n",
        "$, therefore k = 0\n",
        "\n",
        "$b^k = 2^0 = 1$\n",
        "\n",
        "Therefore: $a = b^k$\n",
        "\n",
        "According to Master theorem, we have:\n",
        "\n",
        "$T(n)∈Θ(n^k logn)=Θ(logn)$\n",
        "\n"
      ],
      "metadata": {
        "id": "GYZENwO7Dtat"
      }
    },
    {
      "cell_type": "markdown",
      "source": [
        "## 3.\tRecursive Euclid’s algorithm for greatest common divisor"
      ],
      "metadata": {
        "id": "jEWHP1cKDz1f"
      }
    },
    {
      "cell_type": "code",
      "source": [
        "\n",
        "def gcd(a, b):\n",
        "  \"\"\"\n",
        "    function compute greatest common divisor of two numbers using Euclid's algorithm\n",
        "    Input: a, b - two integers\n",
        "    Output: greatest common divisor\n",
        "  \"\"\"\n",
        "  if b == 0:\n",
        "      return a\n",
        "  else:\n",
        "      return gcd(b, a % b)\n",
        "\n",
        "# Test\n",
        "a = 48\n",
        "b = 18\n",
        "result = gcd(a, b)\n",
        "print(f\"GCD of {a} and {b} is: {result}\")"
      ],
      "metadata": {
        "colab": {
          "base_uri": "https://localhost:8080/"
        },
        "outputId": "bd4f0ef9-eb5b-4142-e137-49868d842591",
        "id": "usfDlrASDz1g"
      },
      "execution_count": null,
      "outputs": [
        {
          "output_type": "stream",
          "name": "stdout",
          "text": [
            "GCD of 48 and 18 is: 6\n"
          ]
        }
      ]
    },
    {
      "cell_type": "markdown",
      "source": [
        "### Analysis\n",
        "\n",
        "1 Input size: n =  max(a,b) = > T(n)\n",
        "\n",
        "2 Basic operation: comparison on line 1\n",
        "\n",
        "3 Worst case: two numbers are consecutive Fibonacci numbers\n",
        "\n",
        "4 T(n) = $Θ(logn)$\n"
      ],
      "metadata": {
        "id": "pZqvTR17Dz1h"
      }
    },
    {
      "cell_type": "markdown",
      "source": [
        "# Intermediate exercises"
      ],
      "metadata": {
        "id": "npBV1HPjQxTZ"
      }
    },
    {
      "cell_type": "markdown",
      "source": [
        "## 4.\tDepth-first search (DFS)"
      ],
      "metadata": {
        "id": "I3XPPpNIQ2sB"
      }
    },
    {
      "cell_type": "code",
      "source": [
        "def dfs(graph, v, visited, count):\n",
        "    \"\"\"\n",
        "    Function: Performs a depth-first search (DFS) starting from vertex v in the graph.\n",
        "\n",
        "    Input:\n",
        "        graph (dict): The graph represented as a dictionary,\n",
        "                       where keys are vertices and values are lists of adjacent vertices.\n",
        "        v (any): The current vertex being visited.\n",
        "        visited (dict): A dictionary to track visited vertices.\n",
        "                        Vertices are marked with integers, 0 if unvisited.\n",
        "        count (list): A list containing a single element as a global count variable,\n",
        "                      used to mark the order of discovery of the vertices.\n",
        "\n",
        "    Output:\n",
        "        None: This function does not return a value but prints the visited vertex and its mark.\n",
        "    \"\"\"\n",
        "    count[0] += 1\n",
        "    visited[v] = count[0]\n",
        "    print(f\"Visited vertex {v}: Marked with {count[0]}\")\n",
        "    for neighbor in graph.get(v, []):\n",
        "        if visited[neighbor] == 0:\n",
        "            dfs(graph, neighbor, visited, count)\n",
        "\n",
        "def dfs_traversal(graph):\n",
        "    \"\"\"\n",
        "    Function: Initializes the depth-first search (DFS) process for the graph.\n",
        "\n",
        "    Input:\n",
        "        graph (dict): The graph represented as a dictionary,\n",
        "                       where keys are vertices and values are lists of adjacent vertices.\n",
        "\n",
        "    Output:\n",
        "        None: This function does not return a value but executes DFS for the graph.\n",
        "    \"\"\"\n",
        "    visited = {v: 0 for v in graph}\n",
        "    count = [0]\n",
        "    for vertex in graph:\n",
        "        if visited[vertex] == 0:\n",
        "            dfs(graph, vertex, visited, count)\n",
        "\n",
        "# Example usage\n",
        "graph = {\n",
        "    'A': ['B', 'C'],\n",
        "    'B': ['D', 'E'],\n",
        "    'C': ['F'],\n",
        "    'D': [],\n",
        "    'E': ['F'],\n",
        "    'F': []\n",
        "}\n",
        "\n",
        "print(\"DFS traversal:\")\n",
        "dfs_traversal(graph)\n"
      ],
      "metadata": {
        "colab": {
          "base_uri": "https://localhost:8080/"
        },
        "id": "JdBYS30WR7BG",
        "outputId": "83fb7cbe-e6f9-48de-8a4c-02617d31e6ec"
      },
      "execution_count": null,
      "outputs": [
        {
          "output_type": "stream",
          "name": "stdout",
          "text": [
            "DFS traversal:\n",
            "Visited vertex A: Marked with 1\n",
            "Visited vertex B: Marked with 2\n",
            "Visited vertex D: Marked with 3\n",
            "Visited vertex E: Marked with 4\n",
            "Visited vertex F: Marked with 5\n",
            "Visited vertex C: Marked with 6\n"
          ]
        }
      ]
    },
    {
      "cell_type": "markdown",
      "source": [
        "### Analysis\n",
        "\n",
        "*Function: dfs*\n",
        "\n",
        "Input Size: n (number of vertices) and m (number of edges) => T(n,m)\n",
        "\n",
        "Basic Operations: Comparison on line 5\n",
        "\n",
        "Worst Case: The graph is connected and all vertices are reachable from the starting vertex\n",
        "\n",
        "T(n,m) = n + m\n",
        "\n",
        "Thus, $T(n,m) ∈ Θ(n + m)$\n",
        "\n",
        "*Function: dfs_traversal*\n",
        "\n",
        "Input Size: n (number of vertices) and m (number of edges) => T(n,m)\n",
        "\n",
        "Basic Operations: Comparison on line 5\n",
        "\n",
        "Worst Case: All vertices and edges are traversed\n",
        "\n",
        "T(n,m) = n + m\n",
        "\n",
        "Thus, $T(n,m) ∈ Θ(n + m)$"
      ],
      "metadata": {
        "id": "5a3yTCd1R6iF"
      }
    },
    {
      "cell_type": "markdown",
      "source": [
        "## 5.\tBreadth-first search (BFS)"
      ],
      "metadata": {
        "id": "VxhWqvWrXUYx"
      }
    },
    {
      "cell_type": "code",
      "source": [
        "from collections import deque\n",
        "\n",
        "def bfs(graph, start):\n",
        "    \"\"\"\n",
        "    Function: Performs a breadth-first search (BFS) starting from the given vertex.\n",
        "\n",
        "    Input:\n",
        "        graph (dict): The graph represented as a dictionary,\n",
        "                       where keys are vertices and values are lists of adjacent vertices.\n",
        "        start (any): The starting vertex for the BFS traversal.\n",
        "\n",
        "    Output:\n",
        "        None: This function does not return a value but prints the visited vertex and its mark.\n",
        "    \"\"\"\n",
        "    visited = {v: 0 for v in graph}\n",
        "    count = [0]\n",
        "    queue = deque([start])\n",
        "    visited[start] = count[0] + 1\n",
        "    count[0] += 1\n",
        "    print(f\"Visited vertex {start}: Marked with {count[0]}\")\n",
        "    while queue:\n",
        "        v = queue.popleft()\n",
        "        for neighbor in graph.get(v, []):\n",
        "            if visited[neighbor] == 0:\n",
        "                count[0] += 1\n",
        "                visited[neighbor] = count[0]\n",
        "                print(f\"Visited vertex {neighbor}: Marked with {count[0]}\")\n",
        "                queue.append(neighbor)\n",
        "\n",
        "def bfs_traversal(graph):\n",
        "    \"\"\"\n",
        "    Function: Initializes the breadth-first search (BFS) process for the graph.\n",
        "\n",
        "    Input:\n",
        "        graph (dict): The graph represented as a dictionary,\n",
        "                       where keys are vertices and values are lists of adjacent vertices.\n",
        "\n",
        "    Output:\n",
        "        None: This function does not return a value but executes BFS for the graph.\n",
        "    \"\"\"\n",
        "    visited = {v: 0 for v in graph}\n",
        "    count = [0]\n",
        "    for vertex in graph:\n",
        "        if visited[vertex] == 0:\n",
        "            bfs(graph, vertex)\n",
        "\n",
        "# Example usage\n",
        "graph = {\n",
        "    'A': ['B', 'C'],\n",
        "    'B': ['D', 'E'],\n",
        "    'C': ['F'],\n",
        "    'D': [],\n",
        "    'E': ['F'],\n",
        "    'F': []\n",
        "}\n",
        "\n",
        "print(\"BFS traversal:\")\n",
        "bfs_traversal(graph)\n"
      ],
      "metadata": {
        "id": "8KoT0ZLOZA1f"
      },
      "execution_count": null,
      "outputs": []
    },
    {
      "cell_type": "markdown",
      "source": [
        "### Analysis\n",
        "\n",
        "*Function: bfs*\n",
        "\n",
        "Input Size: n (number of vertices) and m (number of edges) => T(n,m)\n",
        "\n",
        "Basic Operations: comparison on line 9\n",
        "\n",
        "Worst Case: all vertices and edges are reachable from the starting vertex\n",
        "\n",
        "T(n,m) = n + m\n",
        "\n",
        "Thus, $T(n,m) ∈ Θ(n + m)$\n",
        "\n",
        "*Function bfs_traversal*\n",
        "\n",
        "Input Size: n (number of vertices) and m (number of edges) => T(n,m)\n",
        "\n",
        "Basic Operations: comparison on line 4\n",
        "\n",
        "Worst Case: all vertices and edges are traversed\n",
        "\n",
        "T(n,m) = n + m\n",
        "\n",
        "Thus, $T(n,m) ∈ Θ(n + m)$\n"
      ],
      "metadata": {
        "id": "0oaP7NRXXUZK"
      }
    },
    {
      "cell_type": "markdown",
      "source": [
        "# Upper-intermediate exercise"
      ],
      "metadata": {
        "id": "PIj6o1ShXeq7"
      }
    },
    {
      "cell_type": "markdown",
      "source": [
        "## 6.\tPartition-based algorithm for selection problem"
      ],
      "metadata": {
        "id": "MIqYQAvfXiTv"
      }
    },
    {
      "cell_type": "code",
      "source": [
        "def lomuto_partition(A, l, r):\n",
        "    \"\"\"\n",
        "    Function: Partitions the subarray A[l..r] using Lomuto's partitioning scheme.\n",
        "\n",
        "    Input:\n",
        "        A (list): The array to be partitioned.\n",
        "        l (int): The left index of the subarray.\n",
        "        r (int): The right index of the subarray.\n",
        "\n",
        "    Output:\n",
        "        int: The new index of the pivot after partitioning.\n",
        "    \"\"\"\n",
        "    pivot = A[l]\n",
        "    s = l\n",
        "    for i in range(l + 1, r + 1):\n",
        "        if A[i] < pivot:\n",
        "            s += 1\n",
        "            A[s], A[i] = A[i], A[s]\n",
        "\n",
        "    A[l], A[s] = A[s], A[l]\n",
        "    return s\n",
        "\n",
        "def quickselect(A, l, r, k):\n",
        "    \"\"\"\n",
        "    Function: Sorts the array A using the QuickSort algorithm with Lomuto's partition scheme.\n",
        "\n",
        "    Input:\n",
        "        A (list): The array to be sorted.\n",
        "        l (int): The starting index of the subarray to be sorted.\n",
        "        r (int): The ending index of the subarray to be sorted.\n",
        "\n",
        "    Output:\n",
        "        None: This function sorts the array in place.\n",
        "    \"\"\"\n",
        "    if l == r:\n",
        "        return A[l]\n",
        "    pivot_index = lomuto_partition(A, l, r)\n",
        "    if pivot_index == k - 1:\n",
        "        return A[pivot_index]\n",
        "    elif pivot_index > k - 1:\n",
        "        return quickselect(A, l, pivot_index - 1, k)\n",
        "    else:\n",
        "        return quickselect(A, pivot_index + 1, r, k - pivot_index - 1 + l)\n",
        "\n",
        "\n",
        "# Example usage\n",
        "array = [10, 4, 5, 8, 6, 11, 26]\n",
        "k = 3\n",
        "\n",
        "result = quickselect(array, 0, len(array) - 1, k)\n",
        "print(f\"The {k}-th smallest element is: {result}\")\n",
        "\n"
      ],
      "metadata": {
        "colab": {
          "base_uri": "https://localhost:8080/"
        },
        "outputId": "5377a465-56f1-4625-e74b-2f6da0286fd8",
        "id": "6b973e9sXiTw"
      },
      "execution_count": 1,
      "outputs": [
        {
          "output_type": "stream",
          "name": "stdout",
          "text": [
            "The 3-th smallest element is: 6\n"
          ]
        }
      ]
    },
    {
      "cell_type": "markdown",
      "source": [
        "### Analysis\n",
        "\n",
        "*Function: lomuto_partition*\n",
        "\n",
        "Input Size: The input size can be represented by\n",
        "n, the length of the subarray being partitioned => T(n)\n",
        "\n",
        "Basic Operations: comparison on line 4\n",
        "\n",
        "Worst Case: all elements are either larger or smaller than the pivot\n",
        "\n",
        "T(n) = n\n",
        "\n",
        "Thus, T(n) $Θ(n)$\n",
        "\n",
        "*Function: quickselect*\n",
        "\n",
        "Input Size: n - the length of the subarray being processed => T(n)\n",
        "\n",
        "Basic Operations: comparision on line 4\n",
        "\n",
        "Worst Case:the pivot divides the array unevenly\n",
        "\n",
        "T(n) = $n^2$\n",
        "\n",
        "Thus, T(n) $Θ(n^2)$"
      ],
      "metadata": {
        "id": "_2_Xh_OEXiTx"
      }
    },
    {
      "cell_type": "markdown",
      "source": [
        "## 7.\tBinary Search Tree Algorithms"
      ],
      "metadata": {
        "id": "9KItHUQJXmtn"
      }
    },
    {
      "cell_type": "markdown",
      "source": [
        "#### 1 Searching"
      ],
      "metadata": {
        "id": "2SLvL1Ehdz6t"
      }
    },
    {
      "cell_type": "code",
      "source": [
        "class Node:\n",
        "    def __init__(self, key):\n",
        "        self.left = None\n",
        "        self.right = None\n",
        "        self.value = key\n",
        "\n",
        "def search(root, key):\n",
        "    if root is None or root.value == key:\n",
        "        return root\n",
        "    if key < root.value:\n",
        "        return search(root.left, key)\n",
        "    return search(root.right, key)\n",
        "\n",
        "# Example usage\n",
        "root = Node(10)\n",
        "root.left = Node(5)\n",
        "root.right = Node(20)\n",
        "root.left.left = Node(3)\n",
        "root.left.right = Node(7)\n",
        "\n",
        "# Searching for key\n",
        "result = search(root, 7)\n",
        "print(f\"Key found: {result.value}\" if result else \"Key not found.\")\n"
      ],
      "metadata": {
        "id": "FfPfmCOjeAgr"
      },
      "execution_count": null,
      "outputs": []
    },
    {
      "cell_type": "markdown",
      "source": [
        "##### Analysis\n",
        "\n",
        "*Function: search*\n",
        "\n",
        "Input Size: The number of nodes in the BST, n => T(n)\n",
        "\n",
        "Basic Operation: The main comparison if key < root.value on line 4\n",
        "\n",
        "Worst Case: The tree is unbalanced (essentially a linked list)\n",
        "\n",
        "T(n) = 1 + 1 + ... + 1 = n\n",
        "\n",
        "Thus T(n) $∈ Θ(n)$"
      ],
      "metadata": {
        "id": "fbehW5_ZeG2M"
      }
    },
    {
      "cell_type": "markdown",
      "source": [
        "#### 2 Insertion of a new key"
      ],
      "metadata": {
        "id": "tnanKFpOd6rj"
      }
    },
    {
      "cell_type": "code",
      "source": [
        "def insert(root, key):\n",
        "    if root is None:\n",
        "        return Node(key)\n",
        "    if key < root.value:\n",
        "        root.left = insert(root.left, key)\n",
        "    else:\n",
        "        root.right = insert(root.right, key)\n",
        "    return root\n",
        "\n",
        "# Example usage\n",
        "root = insert(root, 15)\n",
        "print(\"Key inserted.\")\n"
      ],
      "metadata": {
        "id": "c0gjt2dveY4J"
      },
      "execution_count": null,
      "outputs": []
    },
    {
      "cell_type": "markdown",
      "source": [
        "#### Analysis\n",
        "\n",
        "*Function: insert*\n",
        "\n",
        "Input Size: The number of nodes in the BST, n => T(n)\n",
        "\n",
        "Basic Operation: The comparison if key < root.value on line 4\n",
        "\n",
        "Worst Case: The tree is unbalanced\n",
        "\n",
        "T(n) = n\n",
        "\n",
        "Thus T(n) $∈ Θ(n)$"
      ],
      "metadata": {
        "id": "tfrgSz6peaOe"
      }
    },
    {
      "cell_type": "markdown",
      "source": [
        "#### 3\tFinding the smallest (or the largest) key"
      ],
      "metadata": {
        "id": "tf9ezrk0d6lk"
      }
    },
    {
      "cell_type": "code",
      "source": [
        "def find_min(root):\n",
        "    current = root\n",
        "    while current.left is not None:\n",
        "        current = current.left\n",
        "    return current\n",
        "\n",
        "def find_max(root):\n",
        "    current = root\n",
        "    while current.right is not None:\n",
        "        current = current.right\n",
        "    return current\n",
        "\n",
        "# Example usage\n",
        "min_node = find_min(root)\n",
        "print(f\"Smallest key: {min_node.value}\")\n",
        "\n",
        "max_node = find_max(root)\n",
        "print(f\"Largest key: {max_node.value}\")\n"
      ],
      "metadata": {
        "id": "BmLkvo-Sea9a"
      },
      "execution_count": null,
      "outputs": []
    },
    {
      "cell_type": "markdown",
      "source": [
        "####Analysis\n",
        "\n",
        "Input Size: The number of nodes in the BST, n => T(n)\n",
        "\n",
        "Basic Operation: Moving left for find_min or right for find_max.\n",
        "\n",
        "Worst Case: The tree is unbalanced, resulting in a time complexity of O(n).\n",
        "\n",
        "T(n) = n\n",
        "\n",
        "Thus $T(n) ∈ Θ(n)$"
      ],
      "metadata": {
        "id": "cGjtA8WwedBI"
      }
    }
  ]
}