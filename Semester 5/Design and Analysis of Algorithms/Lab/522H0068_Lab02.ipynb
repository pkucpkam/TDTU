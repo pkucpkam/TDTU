{
  "nbformat": 4,
  "nbformat_minor": 0,
  "metadata": {
    "colab": {
      "provenance": [],
      "toc_visible": true
    },
    "kernelspec": {
      "name": "python3",
      "display_name": "Python 3"
    },
    "language_info": {
      "name": "python"
    }
  },
  "cells": [
    {
      "cell_type": "markdown",
      "source": [
        "# Exercise"
      ],
      "metadata": {
        "id": "H37arLbUy76V"
      }
    },
    {
      "cell_type": "markdown",
      "source": [
        "## a"
      ],
      "metadata": {
        "id": "jFDL6KSjy_Nk"
      }
    },
    {
      "cell_type": "markdown",
      "source": [
        "$C_N = C_{N/2} + 1000 $\n",
        "\n",
        "a = 1, b = 2, $f(N)=1000$ and $f(n)∈Θ(n^k )$, therefore k=0\n",
        "\n",
        "$b^k = 2^0 = 1$\n",
        "\n",
        "Therefore $a = b^k$\n",
        "\n",
        "According to Master theorem, we have:\n",
        "\n",
        "$C(N)∈Θ(N^k logN)=Θ(logN)$\n"
      ],
      "metadata": {
        "id": "-sBU4oR1zGTT"
      }
    },
    {
      "cell_type": "markdown",
      "source": [
        "## b"
      ],
      "metadata": {
        "id": "76-DX6StzZuv"
      }
    },
    {
      "cell_type": "markdown",
      "source": [
        "$C_N = 3C_{N/2} + N $\n",
        "\n",
        "a = 3, b = 2, $f(N)=N$ and $f(n)∈Θ(n^k )$, therefore k=1\n",
        "\n",
        "$b^k = 2^1 = 2$\n",
        "\n",
        "Therefore $a > b^k$\n",
        "\n",
        "According to Master theorem, we have:\n",
        "\n",
        "$C(N) \\in Θ(n^{\\log_b a}) = Θ(n^{\\log_2 3}) $\n"
      ],
      "metadata": {
        "id": "yhzl07otzZux"
      }
    },
    {
      "cell_type": "markdown",
      "source": [
        "## c"
      ],
      "metadata": {
        "id": "PDH1NST6zZzP"
      }
    },
    {
      "cell_type": "markdown",
      "source": [
        "$C (N) = 2C (N/2) + 1$\n",
        "\n",
        "a = 2, b = 2, k = 0\n",
        "\n",
        "$b^k = 2^0 = 1$\n",
        "\n",
        "Therefore $a > b^k$\n",
        "\n",
        "According to Master theorem, we have:\n",
        "\n",
        "$C(N) \\in Θ(n^{\\log_b a}) = Θ(n^{\\log_2 2}) $\n",
        "\n"
      ],
      "metadata": {
        "id": "dMuZaOxTzZzQ"
      }
    },
    {
      "cell_type": "markdown",
      "source": [
        "## d"
      ],
      "metadata": {
        "id": "nVOOGnXUzZ2X"
      }
    },
    {
      "cell_type": "markdown",
      "source": [
        "$CN = 4C_{N/2} + N$\n",
        "\n",
        "a = 4, b = 2, $f(N)=N$ and $f(n)∈Θ(n^k )$, therefore k=1\n",
        "\n",
        "$b^k = 2^1 = 2$\n",
        "\n",
        "Therefore $a > b^k$\n",
        "\n",
        "According to Master theorem, we have:\n",
        "\n",
        "$C(N) \\in Θ(n^{\\log_b a}) = Θ(n^{\\log_2 4}) $\n"
      ],
      "metadata": {
        "id": "CLYJ3xUozZ2X"
      }
    },
    {
      "cell_type": "markdown",
      "source": [
        "## e"
      ],
      "metadata": {
        "id": "Ql8pPEDjzZ5e"
      }
    },
    {
      "cell_type": "markdown",
      "source": [
        "$C (N) = 9C (N/3) + N$\n",
        "\n",
        "a = 9, b = 3, $f(N)=N$ and $f(n)∈Θ(n^k )$, therefore k=1\n",
        "\n",
        "$b^k = 3^1 = 3$\n",
        "\n",
        "Therefore $a > b^k$\n",
        "\n",
        "According to Master theorem, we have:\n",
        "\n",
        "$C(N) \\in Θ(n^{\\log_b a}) = Θ(n^{\\log_3 9}) $\n"
      ],
      "metadata": {
        "id": "DxJN8cT6zZ5f"
      }
    },
    {
      "cell_type": "markdown",
      "source": [
        "## f"
      ],
      "metadata": {
        "id": "lMxRWI7hzZ8G"
      }
    },
    {
      "cell_type": "markdown",
      "source": [
        "$C (N) = C (2N/3) + 1$\n",
        "\n",
        "$2N/3 = N/(3/2)$\n",
        "\n",
        "a = 1, b = 3/2, $f(N)=1$ and $f(n)∈Θ(n^k )$, therefore k=0\n",
        "\n",
        "$b^k = (3/2)^0 = 1$\n",
        "\n",
        "Therefore $a = b^k$\n",
        "\n",
        "According to Master theorem, we have:\n",
        "\n",
        "$C(N)∈Θ(N^k logN)=Θ(logN)$"
      ],
      "metadata": {
        "id": "CSrzf5OyzZ8G"
      }
    },
    {
      "cell_type": "markdown",
      "source": [
        "## g"
      ],
      "metadata": {
        "id": "488FIvdQzZ-t"
      }
    },
    {
      "cell_type": "markdown",
      "source": [
        "$C (N) = 3C (N/4) + N^2$\n",
        "\n",
        "a = 3, b = 4, $f(N)=N^2$ and $f(n)∈Θ(n^k )$, therefore k=2\n",
        "\n",
        "$b^k = 4^2 = 16$\n",
        "\n",
        "Therefore $a < b^k$\n",
        "\n",
        "According to Master theorem, we have:\n",
        "\n",
        "$C(N)∈Θ(n^k ) = Θ(n^2)$"
      ],
      "metadata": {
        "id": "u09eSGTFzZ-u"
      }
    },
    {
      "cell_type": "markdown",
      "source": [
        "## h"
      ],
      "metadata": {
        "id": "H9YWoj24zaB6"
      }
    },
    {
      "cell_type": "markdown",
      "source": [
        "$\tT(n)=T(n/3)+2T(n/3)+ \\sqrt(n)$\n",
        "\n",
        "$\tT(n)=3T(n/3)+ \\sqrt(n)$\n",
        "\n",
        "a = 3, b = 3, $f(n)=\\sqrt(n)$ and $f(n)∈Θ(n^k )$, therefore k=1/2\n",
        "\n",
        "$b^k = 3^{1/2} = \\sqrt(3)$\n",
        "\n",
        "Therefore $a > b^k$\n",
        "\n",
        "According to Master theorem, we have:\n",
        "\n",
        "$T(n) \\in Θ(n^{\\log_b a}) = Θ(n^{\\log_3 3}) $"
      ],
      "metadata": {
        "id": "JYfJzAXszaB6"
      }
    },
    {
      "cell_type": "markdown",
      "source": [
        "## i"
      ],
      "metadata": {
        "id": "tMI1afGZzq_m"
      }
    },
    {
      "cell_type": "markdown",
      "source": [
        "$\t\tT(n)=T(n/3)+2T(n/3)+n^{2.5}$\n",
        "\n",
        "$\tT(n)=3T(n/3)+n^{2.5}$\n",
        "\n",
        "a = 3, b = 3, $f(n)=n^{2.5}$ and $f(n)∈Θ(n^k )$, therefore k=2.5\n",
        "\n",
        "$b^k = 3^{2.5}$\n",
        "\n",
        "Therefore $a < b^k$\n",
        "\n",
        "According to Master theorem, we have:\n",
        "\n",
        "$T(n)∈Θ(n^k ) = Θ(n^{2.5})$"
      ],
      "metadata": {
        "id": "wxnXtK1Zzq_n"
      }
    },
    {
      "cell_type": "markdown",
      "source": [
        "## j"
      ],
      "metadata": {
        "id": "_poupdNqzrNu"
      }
    },
    {
      "cell_type": "markdown",
      "source": [
        "$\tT(n)=T(n/3)+2T(n/3)+n^3$\n",
        "\n",
        "$\tT(n)=3T(n/3)+n^3$\n",
        "\n",
        "a = 3, b = 3, $f(n)=n^3$ and $f(n)∈Θ(n^k )$, therefore k=3\n",
        "\n",
        "$b^k = 3^3 = 27$\n",
        "\n",
        "Therefore $a < b^k$\n",
        "\n",
        "According to Master theorem, we have:\n",
        "\n",
        "$T(n)∈Θ(n^k ) = Θ(n^{3})$"
      ],
      "metadata": {
        "id": "qVZ-3jyIzrNv"
      }
    },
    {
      "cell_type": "markdown",
      "source": [
        "## k"
      ],
      "metadata": {
        "id": "Fa1VK8kgzrYG"
      }
    },
    {
      "cell_type": "markdown",
      "source": [
        "$\tT(n)=T(n/3)+2T(n/3)+5^3$\n",
        "\n",
        "$\tT(n)=3T(n/3)+5^3$\n",
        "\n",
        "a = 3, b = 3, $f(n)=5^3$ and $f(n)∈Θ(n^k )$, therefore k=0\n",
        "\n",
        "$b^k = 3^0 = 1$\n",
        "\n",
        "Therefore $a > b^k$\n",
        "\n",
        "According to Master theorem, we have:\n",
        "\n",
        "$T(n) \\in Θ(n^{\\log_b a}) = Θ(n^{\\log_3 3}) $"
      ],
      "metadata": {
        "id": "X6OA66VXzrYH"
      }
    },
    {
      "cell_type": "markdown",
      "source": [
        "## l"
      ],
      "metadata": {
        "id": "3xiDspHlz5ZH"
      }
    },
    {
      "cell_type": "markdown",
      "source": [
        "$T(n)=T(n/3)+2T(n/3)+n×n$\n",
        "\n",
        "$T(n)=3T(n/3)+n^2$\n",
        "\n",
        "a = 3, b = 3, $f(n)=n^2$ and $f(n)∈Θ(n^k )$, therefore k=2\n",
        "\n",
        "$b^k = 3^2 = 9$\n",
        "\n",
        "Therefore $a < b^k$\n",
        "\n",
        "According to Master theorem, we have:\n",
        "\n",
        "$T(n)∈Θ(n^k ) = Θ(n^{2})$"
      ],
      "metadata": {
        "id": "yjjK79jsz5ZI"
      }
    }
  ]
}