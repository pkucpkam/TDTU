{
  "nbformat": 4,
  "nbformat_minor": 0,
  "metadata": {
    "colab": {
      "provenance": [],
      "collapsed_sections": [
        "UNgjJYw-Pe6Y",
        "FUIVU0rZPe6Z"
      ],
      "toc_visible": true
    },
    "kernelspec": {
      "name": "python3",
      "display_name": "Python 3"
    },
    "language_info": {
      "name": "python"
    }
  },
  "cells": [
    {
      "cell_type": "markdown",
      "source": [
        "# 1.\tActivity Selection Problem"
      ],
      "metadata": {
        "id": "J9tlbi3FKiJS"
      }
    },
    {
      "cell_type": "markdown",
      "source": [
        "## Aglorithm"
      ],
      "metadata": {
        "id": "qwSgBEspKj9I"
      }
    },
    {
      "cell_type": "code",
      "source": [
        "def mergeSort(arr):\n",
        "    '''Hàm sắp xếp danh sách bằng Merge Sort (độ phức tạp O(n log n))'''\n",
        "    if len(arr) > 1:\n",
        "        mid = len(arr) // 2\n",
        "        left_half = arr[:mid]\n",
        "        right_half = arr[mid:]\n",
        "\n",
        "        mergeSort(left_half)\n",
        "        mergeSort(right_half)\n",
        "\n",
        "        i = j = k = 0\n",
        "\n",
        "        while i < len(left_half) and j < len(right_half):\n",
        "            if left_half[i][1] < right_half[j][1]:\n",
        "                arr[k] = left_half[i]\n",
        "                i += 1\n",
        "            else:\n",
        "                arr[k] = right_half[j]\n",
        "                j += 1\n",
        "            k += 1\n",
        "\n",
        "        while i < len(left_half):\n",
        "            arr[k] = left_half[i]\n",
        "            i += 1\n",
        "            k += 1\n",
        "\n",
        "        while j < len(right_half):\n",
        "            arr[k] = right_half[j]\n",
        "            j += 1\n",
        "            k += 1\n",
        "\n",
        "def activity_selection(activities):\n",
        "    '''\n",
        "    Selects the maximum number of non-overlapping activities from a list of activities,\n",
        "    where each activity is defined by a start and finish time.\n",
        "\n",
        "    Input:\n",
        "    activities (List[Tuple[int, int]]): A list of activities, where each activity is a tuple (start, finish).\n",
        "\n",
        "    Out:\n",
        "    List[Tuple[int, int]]: A list of selected activities that do not overlap, maximizing the total number.\n",
        "    '''\n",
        "\n",
        "    mergeSort(activities)\n",
        "\n",
        "    selected_activities = []\n",
        "    selected_activities.append(activities[0])\n",
        "    last_selected = activities[0]\n",
        "\n",
        "    for i in range(1, len(activities)):\n",
        "        if activities[i][0] >= last_selected[1]:\n",
        "            selected_activities.append(activities[i])\n",
        "            last_selected = activities[i]\n",
        "\n",
        "    return selected_activities\n",
        "\n",
        "# Example usage\n",
        "activities = [(1, 4), (3, 5), (0, 6), (5, 7), (3, 8), (5, 9), (6, 10), (8, 11), (8, 12), (2, 13), (12, 14)]\n",
        "selected = activity_selection(activities)\n",
        "\n",
        "print(\"Selected Activities:\", selected)\n"
      ],
      "metadata": {
        "colab": {
          "base_uri": "https://localhost:8080/"
        },
        "id": "cEX_uqoYMlBo",
        "outputId": "cd4cc66e-3192-42d1-a190-c0dd8e8c4d59"
      },
      "execution_count": 6,
      "outputs": [
        {
          "output_type": "stream",
          "name": "stdout",
          "text": [
            "Selected Activities: [(1, 4), (5, 7), (8, 11), (12, 14)]\n"
          ]
        }
      ]
    },
    {
      "cell_type": "markdown",
      "source": [
        "## Analysis\n"
      ],
      "metadata": {
        "id": "ly4wmIlNKkPs"
      }
    },
    {
      "cell_type": "markdown",
      "source": [
        "1. Input size : n - the number of activities => T(n)\n",
        "2. Basic operation: Basic operation of sorted\n",
        "3. Worse case: Worst case of sorted - The list is sorted in descending order\n",
        "4. T(n) = $T_{mergeSort}(n)$ = $O(n \\log n)$\n",
        "\n",
        "So, T(n) $∈Θ(n\\log n)$"
      ],
      "metadata": {
        "id": "kpfMBOt-Knn9"
      }
    },
    {
      "cell_type": "markdown",
      "source": [
        "# 2.\tJob Sequencing Problem with Deadlines"
      ],
      "metadata": {
        "id": "OTIe2pkOPe6X"
      }
    },
    {
      "cell_type": "markdown",
      "source": [
        "## Aglorithm"
      ],
      "metadata": {
        "id": "UNgjJYw-Pe6Y"
      }
    },
    {
      "cell_type": "code",
      "source": [
        "def mergeSort(tasks):\n",
        "    if len(tasks) <= 1:\n",
        "        return tasks\n",
        "\n",
        "    mid = len(tasks) // 2\n",
        "    left_half = mergeSort(tasks[:mid])\n",
        "    right_half = mergeSort(tasks[mid:])\n",
        "\n",
        "    sorted_tasks = []\n",
        "    while left_half and right_half:\n",
        "        if left_half[0][\"profit\"] > right_half[0][\"profit\"]:\n",
        "            sorted_tasks.append(left_half.pop(0))\n",
        "        else:\n",
        "            sorted_tasks.append(right_half.pop(0))\n",
        "\n",
        "    sorted_tasks.extend(left_half if left_half else right_half)\n",
        "    return sorted_tasks\n",
        "\n",
        "def job_sequencing(tasks):\n",
        "    \"\"\"\n",
        "    Solve the problem of arranging work with deadlines (Job Sequencing Problem).\n",
        "\n",
        "    Args:\n",
        "    tasks (list of dict): List of jobs, each job is a dictionary containing 'task', 'deadline', and 'profit'.\n",
        "\n",
        "    Returns:\n",
        "    tuple: A tuple containing a list of tasks sorted in the format [task(profit)], and the total profit.\n",
        "    \"\"\"\n",
        "    tasks = mergeSort(tasks)\n",
        "\n",
        "    max_deadline = max(task[\"deadline\"] for task in tasks)\n",
        "    schedule = [None] * max_deadline\n",
        "    total_profit = 0\n",
        "\n",
        "    for task in tasks:\n",
        "        for slot in range(task[\"deadline\"] - 1, -1, -1):\n",
        "            if schedule[slot] is None:\n",
        "                schedule[slot] = f\"{task['task']}({task['profit']})\"\n",
        "                total_profit += task[\"profit\"]\n",
        "                break\n",
        "\n",
        "    return schedule, total_profit\n",
        "\n",
        "# Example usage with provided data\n",
        "tasks = [\n",
        "    {\"task\": 1, \"deadline\": 9, \"profit\": 15},\n",
        "    {\"task\": 2, \"deadline\": 2, \"profit\": 2},\n",
        "    {\"task\": 3, \"deadline\": 5, \"profit\": 18},\n",
        "    {\"task\": 4, \"deadline\": 7, \"profit\": 1},\n",
        "    {\"task\": 5, \"deadline\": 4, \"profit\": 25},\n",
        "    {\"task\": 6, \"deadline\": 2, \"profit\": 20},\n",
        "    {\"task\": 7, \"deadline\": 5, \"profit\": 8},\n",
        "    {\"task\": 8, \"deadline\": 7, \"profit\": 10},\n",
        "    {\"task\": 9, \"deadline\": 4, \"profit\": 12},\n",
        "    {\"task\": 10, \"deadline\": 3, \"profit\": 5},\n",
        "]\n",
        "\n",
        "# Run the job_sequencing function\n",
        "schedule, total_profit = job_sequencing(tasks)\n",
        "print(\"Lịch trình công việc:\", schedule)\n",
        "print(\"Tổng lợi nhuận:\", total_profit)\n"
      ],
      "metadata": {
        "colab": {
          "base_uri": "https://localhost:8080/"
        },
        "outputId": "68d14546-1bc4-4397-9394-0deb6027b3bd",
        "id": "PUJ5X6V4Pe6Y"
      },
      "execution_count": 11,
      "outputs": [
        {
          "output_type": "stream",
          "name": "stdout",
          "text": [
            "Lịch trình công việc: ['7(8)', '6(20)', '9(12)', '5(25)', '3(18)', '4(1)', '8(10)', None, '1(15)']\n",
            "Tổng lợi nhuận: 109\n"
          ]
        }
      ]
    },
    {
      "cell_type": "markdown",
      "source": [
        "## Analysis\n"
      ],
      "metadata": {
        "id": "FUIVU0rZPe6Z"
      }
    },
    {
      "cell_type": "markdown",
      "source": [
        "1. Input size : n - the number of tasks => T(n)\n",
        "2. Basic operation: Basic operation of sorted\n",
        "3. Worse case: Worst case of sorted - The list is sorted in descending order\n",
        "4. T(n) = $T_{mergeSort}(n)$ = $O(n \\log n)\n",
        "\n",
        "So, T(n) $∈Θ(n\\log n)$"
      ],
      "metadata": {
        "id": "iPwt7FCQPe6Z"
      }
    },
    {
      "cell_type": "markdown",
      "source": [
        "# 3.\tPrim’s Algorithm"
      ],
      "metadata": {
        "id": "uDhipdkJPgDL"
      }
    },
    {
      "cell_type": "markdown",
      "source": [
        "## Aglorithm"
      ],
      "metadata": {
        "id": "-XCDaN3WPgDM"
      }
    },
    {
      "cell_type": "code",
      "source": [
        "def prim_algorithm(graph, start_vertex=0):\n",
        "    \"\"\"\n",
        "    Prim's Algorithm for constructing a minimum spanning tree (MST) of a connected weighted graph.\n",
        "\n",
        "    Input:\n",
        "    graph (dict): A dictionary where the keys are vertex IDs and the values are lists of tuples,\n",
        "                  each representing an adjacent vertex and the weight of the edge to that vertex.\n",
        "    start_vertex (int): The starting vertex for the algorithm (can be any vertex).\n",
        "\n",
        "    Output:\n",
        "    set of tuple: The edges in the MST as a set of tuples (vertex1, vertex2, weight).\n",
        "    \"\"\"\n",
        "    V_T = {start_vertex}\n",
        "    E_T = set()\n",
        "    num_vertices = len(graph)\n",
        "\n",
        "    for _ in range(num_vertices - 1):\n",
        "        min_edge = None\n",
        "        for v in V_T:\n",
        "            for u, weight in graph[v]:\n",
        "                if u not in V_T:\n",
        "                    if min_edge is None or weight < min_edge[2]:\n",
        "                        min_edge = (v, u, weight)\n",
        "\n",
        "        if min_edge:\n",
        "            v, u, weight = min_edge\n",
        "            V_T.add(u)\n",
        "            E_T.add((v, u, weight))\n",
        "\n",
        "    return E_T\n",
        "\n",
        "# Example usage with an adjacency list representation of the graph\n",
        "graph = {\n",
        "    0: [(1, 4), (7, 8)],\n",
        "    1: [(0, 4), (2, 8), (7, 11)],\n",
        "    2: [(1, 8), (3, 7), (8, 2), (5, 4)],\n",
        "    3: [(2, 7), (4, 9), (5, 14)],\n",
        "    4: [(3, 9), (5, 10)],\n",
        "    5: [(2, 4), (3, 14), (4, 10), (6, 2)],\n",
        "    6: [(5, 2), (7, 1), (8, 6)],\n",
        "    7: [(0, 8), (1, 11), (6, 1), (8, 7)],\n",
        "    8: [(2, 2), (6, 6), (7, 7)]\n",
        "}\n",
        "\n",
        "# Run Prim's Algorithm\n",
        "mst_edges = prim_algorithm(graph, start_vertex=0)\n",
        "print(\"Edges in the Minimum Spanning Tree:\", mst_edges)\n"
      ],
      "metadata": {
        "colab": {
          "base_uri": "https://localhost:8080/"
        },
        "id": "tOgTVoiNUdMD",
        "outputId": "4468e51b-dbe6-4b96-d28b-f91954cc3013"
      },
      "execution_count": 13,
      "outputs": [
        {
          "output_type": "stream",
          "name": "stdout",
          "text": [
            "Edges in the Minimum Spanning Tree: {(0, 1, 4), (7, 6, 1), (2, 8, 2), (3, 4, 9), (6, 5, 2), (5, 2, 4), (2, 3, 7), (0, 7, 8)}\n"
          ]
        }
      ]
    },
    {
      "cell_type": "markdown",
      "source": [
        "## Analysis\n"
      ],
      "metadata": {
        "id": "aUWSRmm7PgDO"
      }
    },
    {
      "cell_type": "markdown",
      "source": [
        "1. Input size : n - Number of vertices |V| => T(n)\n",
        "2. Basic operation: Comparison on line 8\n",
        "3. Worse case: Check all edges in each iteration\n",
        "4. T(n) = $n*n*n$ = $O(n^3)\n",
        "$\n",
        "\n",
        "So, $T(n)∈Θ(n^3)$"
      ],
      "metadata": {
        "id": "OUUGafBvPgDP"
      }
    },
    {
      "cell_type": "markdown",
      "source": [
        "# 4.\tKruskal’s Algorithm"
      ],
      "metadata": {
        "id": "arZN00AKTloj"
      }
    },
    {
      "cell_type": "markdown",
      "source": [
        "## Aglorithm"
      ],
      "metadata": {
        "id": "aXUsjYhSTloj"
      }
    },
    {
      "cell_type": "code",
      "source": [
        "def merge_sort(edges):\n",
        "    if len(edges) <= 1:\n",
        "        return edges\n",
        "\n",
        "    mid = len(edges) // 2\n",
        "    left_half = merge_sort(edges[:mid])\n",
        "    right_half = merge_sort(edges[mid:])\n",
        "\n",
        "    sorted_edges = []\n",
        "    i = j = 0\n",
        "\n",
        "    while i < len(left_half) and j < len(right_half):\n",
        "        if left_half[i][2] <= right_half[j][2]:\n",
        "            sorted_edges.append(left_half[i])\n",
        "            i += 1\n",
        "        else:\n",
        "            sorted_edges.append(right_half[j])\n",
        "            j += 1\n",
        "\n",
        "    sorted_edges.extend(left_half[i:])\n",
        "    sorted_edges.extend(right_half[j:])\n",
        "\n",
        "    return sorted_edges\n",
        "\n",
        "def find(parent, u):\n",
        "    if parent[u] != u:\n",
        "        parent[u] = find(parent, parent[u])\n",
        "    return parent[u]\n",
        "\n",
        "def union(parent, rank, u, v):\n",
        "    root_u = find(parent, u)\n",
        "    root_v = find(parent, v)\n",
        "    if root_u != root_v:\n",
        "        if rank[root_u] > rank[root_v]:\n",
        "            parent[root_v] = root_u\n",
        "        elif rank[root_u] < rank[root_v]:\n",
        "            parent[root_u] = root_v\n",
        "        else:\n",
        "            parent[root_v] = root_u\n",
        "            rank[root_u] += 1\n",
        "        return True\n",
        "    return False\n",
        "\n",
        "def kruskal_algorithm(graph, num_vertices):\n",
        "    \"\"\"\n",
        "    Kruskal's algorithm for constructing a minimum spanning tree (MST) using a while loop\n",
        "    and a custom merge sort function for sorting edges by weight.\n",
        "\n",
        "    Input:\n",
        "    graph (list of tuples): A list where each tuple represents an edge (u, v, weight),\n",
        "                            with u and v being the vertices and weight being the edge's weight.\n",
        "    num_vertices (int): The number of vertices in the graph.\n",
        "\n",
        "    Output:\n",
        "    list of tuple: The edges in the MST.\n",
        "    \"\"\"\n",
        "    sorted_edges = merge_sort(graph)\n",
        "\n",
        "    parent = list(range(num_vertices))\n",
        "    rank = [0] * num_vertices\n",
        "    mst_edges = []\n",
        "    e_counter = 0\n",
        "    k = 0\n",
        "\n",
        "    while e_counter < num_vertices - 1 and k < len(sorted_edges):\n",
        "        u, v, weight = sorted_edges[k]\n",
        "        k += 1\n",
        "\n",
        "        if union(parent, rank, u, v):\n",
        "            mst_edges.append((u, v, weight))\n",
        "            e_counter += 1\n",
        "    return mst_edges\n",
        "\n",
        "# Example usage\n",
        "graph = [\n",
        "    (0, 1, 4), (0, 7, 8),\n",
        "    (1, 2, 8), (1, 7, 11),\n",
        "    (2, 3, 7), (2, 8, 2), (2, 5, 4),\n",
        "    (3, 4, 9), (3, 5, 14),\n",
        "    (4, 5, 10),\n",
        "    (5, 6, 2),\n",
        "    (6, 7, 1), (6, 8, 6),\n",
        "    (7, 8, 7)\n",
        "]\n",
        "num_vertices = 9\n",
        "\n",
        "# Run Kruskal's Algorithm with custom merge sort\n",
        "mst = kruskal_algorithm(graph, num_vertices)\n",
        "print(\"Edges in the Minimum Spanning Tree:\", mst)\n"
      ],
      "metadata": {
        "colab": {
          "base_uri": "https://localhost:8080/"
        },
        "outputId": "8a04cf8d-af71-40a4-9643-b3d65e060ce5",
        "id": "miw8WXiSTlok"
      },
      "execution_count": 15,
      "outputs": [
        {
          "output_type": "stream",
          "name": "stdout",
          "text": [
            "Edges in the Minimum Spanning Tree: [(6, 7, 1), (2, 8, 2), (5, 6, 2), (0, 1, 4), (2, 5, 4), (2, 3, 7), (0, 7, 8), (3, 4, 9)]\n"
          ]
        }
      ]
    },
    {
      "cell_type": "markdown",
      "source": [
        "## Analysis\n"
      ],
      "metadata": {
        "id": "J3X2En7STlok"
      }
    },
    {
      "cell_type": "markdown",
      "source": [
        "1. Input size : n - the number of vertices, m - the number of edges  => T(n,m)\n",
        "2. Basic operation: Basic operation of sorted\n",
        "3. Worse case: Worst case of sorted - The list is sorted in descending order\n",
        "4. T(n,m) = $T_{mergeSort}(m) + T(n)$ = $O(m \\log m)\n",
        "$\n",
        "\n",
        "So, $T(n,m)∈Θ(m\\ log m)$"
      ],
      "metadata": {
        "id": "CLs3s7V6Tlok"
      }
    }
  ]
}